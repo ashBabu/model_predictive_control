{
 "cells": [
  {
   "cell_type": "code",
   "execution_count": 15,
   "metadata": {},
   "outputs": [],
   "source": [
    "import numpy as np\n",
    "from sympy import *\n",
    "\n",
    "from MassMatrix.wrapper_module_0 import autofunc_c as MassMatrix\n",
    "from CoriolisVector.wrapper_module_1 import autofunc_c as CoriolisVector\n",
    "from Ls.wrapper_module_2 import autofunc_c as Ls\n",
    "from Lm.wrapper_module_3 import autofunc_c as Lm\n",
    "from Ls_derivative.wrapper_module_4 import autofunc_c as Ls_d\n",
    "from Lm_derivative.wrapper_module_5 import autofunc_c as Lm_d\n",
    "\n",
    "from pympc.geometry.polyhedron import Polyhedron\n",
    "from pympc.dynamics.discrete_time_systems import LinearSystem\n",
    "from pympc.control.controllers import ModelPredictiveController\n",
    "from pympc.plot import plot_input_sequence, plot_state_trajectory, plot_state_space_trajectory\n"
   ]
  },
  {
   "cell_type": "code",
   "execution_count": 16,
   "metadata": {},
   "outputs": [],
   "source": [
    "def mass_matrix(spacecraft_angles=None, joint_angles=None, Is=None, I_link=None, mass=None):\n",
    "    if not Is:\n",
    "        Is = np.array([1400, 1400, 2040])\n",
    "    if not I_link:\n",
    "        I_link = np.array([0.10, 0.25, 0.25, 0.10, 0.26, 0.26, 0.10, 0.26, 0.26])  # Ixx1, Ixx2, Ixx3, Iyy1, Iyy2, Iyy3, Izz1, Izz2, Izz3\n",
    "    if not mass:\n",
    "        mass = np.array([200.0, 20.0, 50.0, 50.0]) # m0=mass of satellite and the rest are link masses\n",
    "    Is_xx, Is_yy, Is_zz = Is\n",
    "    Ixx1, Ixx2, Ixx3, Iyy1, Iyy2, Iyy3, Izz1, Izz2, Izz3 = I_link\n",
    "    alpha, beta, gamma = spacecraft_angles\n",
    "    m0, m1, m2, m3 = mass\n",
    "    theta_1, theta_2, theta_3 = joint_angles\n",
    "    return MassMatrix(Is_xx, Is_yy, Is_zz, Ixx1, Ixx2, Ixx3, Iyy1, Iyy2, Iyy3, Izz1, Izz2, Izz3, alpha, beta, gamma, m0, m1, m2, m3, theta_1, theta_2, theta_3)"
   ]
  },
  {
   "cell_type": "code",
   "execution_count": 17,
   "metadata": {},
   "outputs": [],
   "source": [
    "def coriolis_vector(spacecraft_angles=None, joint_angles=None, spacecraft_vel=None, joint_vel=None, Is=None, I_link=None, mass=None):\n",
    "    if not Is:\n",
    "        Is = np.array([1400, 1400, 2040])\n",
    "    if not I_link:\n",
    "        I_link = np.array([0.10, 0.25, 0.25, 0.10, 0.26, 0.26, 0.10, 0.26, 0.26])  # Ixx1, Ixx2, Ixx3, Iyy1, Iyy2, Iyy3, Izz1, Izz2, Izz3\n",
    "    if not mass:\n",
    "        mass = np.array([200.0, 20.0, 50.0, 50.0]) # m0=mass of satellite and the rest are link masses\n",
    "    Is_xx, Is_yy, Is_zz = Is\n",
    "    Ixx1, Ixx2, Ixx3, Iyy1, Iyy2, Iyy3, Izz1, Izz2, Izz3 = I_link\n",
    "    alpha, beta, gamma = spacecraft_angles\n",
    "    m0, m1, m2, m3 = mass\n",
    "    theta_1, theta_2, theta_3 = joint_angles\n",
    "    alpha_d, beta_d, gamma_d = spacecraft_vel\n",
    "    theta_1d, theta_2d, theta_3d = joint_vel\n",
    "    return CoriolisVector(Is_xx, Is_yy, Is_zz, Ixx1, Ixx2, Ixx3, Iyy1, Iyy2, Iyy3, Izz1, Izz2, Izz3, alpha, alpha_d, beta, beta_d, gamma, gamma_d, m0, m1, m2, m3, theta_1, theta_1d, theta_2, theta_2d, theta_3, theta_3d)"
   ]
  },
  {
   "cell_type": "code",
   "execution_count": null,
   "metadata": {},
   "outputs": [],
   "source": [
    "def calculate_Ls(spacecraft_angles=None, joint_angles=None, Is=None, I_link=None, mass=None):\n",
    "    if not Is:\n",
    "        Is = np.array([1400, 1400, 2040])\n",
    "    if not I_link:\n",
    "        I_link = np.array([0.10, 0.25, 0.25, 0.10, 0.26, 0.26, 0.10, 0.26, 0.26])  # Ixx1, Ixx2, Ixx3, Iyy1, Iyy2, Iyy3, Izz1, Izz2, Izz3\n",
    "    if not mass:\n",
    "        mass = np.array([200.0, 20.0, 50.0, 50.0]) # m0=mass of satellite and the rest are link masses\n",
    "    Is_xx, Is_yy, Is_zz = Is\n",
    "    Ixx1, Ixx2, Ixx3, Iyy1, Iyy2, Iyy3, Izz1, Izz2, Izz3 = I_link\n",
    "    alpha, beta, gamma = spacecraft_angles\n",
    "    m0, m1, m2, m3 = mass\n",
    "    theta_1, theta_2, theta_3 = joint_angles\n",
    "    return Ls(Is_xx, Is_yy, Is_zz, Ixx1, Ixx2, Ixx3, Iyy1, Iyy2, Iyy3, Izz1, Izz2, Izz3, alpha, beta, gamma, m0, m1, m2, m3, theta_1, theta_2, theta_3)"
   ]
  },
  {
   "cell_type": "code",
   "execution_count": null,
   "metadata": {},
   "outputs": [],
   "source": [
    "def calculate_Lm(spacecraft_angles=None, joint_angles=None, Is=None, I_link=None, mass=None):\n",
    "    if not Is:\n",
    "        Is = np.array([1400, 1400, 2040])\n",
    "    if not I_link:\n",
    "        I_link = np.array([0.10, 0.25, 0.25, 0.10, 0.26, 0.26, 0.10, 0.26, 0.26])  # Ixx1, Ixx2, Ixx3, Iyy1, Iyy2, Iyy3, Izz1, Izz2, Izz3\n",
    "    if not mass:\n",
    "        mass = np.array([200.0, 20.0, 50.0, 50.0]) # m0=mass of satellite and the rest are link masses\n",
    "    Is_xx, Is_yy, Is_zz = Is\n",
    "    Ixx1, Ixx2, Ixx3, Iyy1, Iyy2, Iyy3, Izz1, Izz2, Izz3 = I_link\n",
    "    alpha, beta, gamma = spacecraft_angles\n",
    "    m0, m1, m2, m3 = mass\n",
    "    theta_1, theta_2, theta_3 = joint_angles\n",
    "    return Lm(Ixx1, Ixx2, Ixx3, Iyy1, Iyy2, Iyy3, Izz1, Izz2, Izz3, alpha, beta, gamma, m0, m1, m2, m3, theta_1, theta_2, theta_3)"
   ]
  },
  {
   "cell_type": "code",
   "execution_count": null,
   "metadata": {},
   "outputs": [],
   "source": [
    "def Ls_derivative(spacecraft_angles=None, joint_angles=None, spacecraft_vel=None, joint_vel=None, Is=None, I_link=None, mass=None):\n",
    "    if not Is:\n",
    "        Is = np.array([1400, 1400, 2040])\n",
    "    if not I_link:\n",
    "        I_link = np.array([0.10, 0.25, 0.25, 0.10, 0.26, 0.26, 0.10, 0.26, 0.26])  # Ixx1, Ixx2, Ixx3, Iyy1, Iyy2, Iyy3, Izz1, Izz2, Izz3\n",
    "    if not mass:\n",
    "        mass = np.array([200.0, 20.0, 50.0, 50.0]) # m0=mass of satellite and the rest are link masses\n",
    "    Is_xx, Is_yy, Is_zz = Is\n",
    "    Ixx1, Ixx2, Ixx3, Iyy1, Iyy2, Iyy3, Izz1, Izz2, Izz3 = I_link\n",
    "    alpha, beta, gamma = spacecraft_angles\n",
    "    m0, m1, m2, m3 = mass\n",
    "    theta_1, theta_2, theta_3 = joint_angles\n",
    "    alpha_d, beta_d, gamma_d = spacecraft_vel\n",
    "    theta_1d, theta_2d, theta_3d = joint_vel\n",
    "    return Ls_d(Is_xx, Is_yy, Is_zz, Ixx1, Ixx2, Ixx3, Iyy1, Iyy2, Iyy3, Izz1, Izz2, Izz3, alpha, alpha_d, beta, beta_d, gamma, gamma_d, m0, m1, m2, m3, theta_1, theta_1d, theta_2, theta_2d, theta_3, theta_3d)"
   ]
  },
  {
   "cell_type": "code",
   "execution_count": null,
   "metadata": {},
   "outputs": [],
   "source": [
    "def Lm_derivative(spacecraft_angles=None, joint_angles=None, spacecraft_vel=None, joint_vel=None, Is=None, I_link=None, mass=None):\n",
    "#     if not Is:\n",
    "#         Is = np.array([1400, 1400, 2040])\n",
    "    if not I_link:\n",
    "        I_link = np.array([0.10, 0.25, 0.25, 0.10, 0.26, 0.26, 0.10, 0.26, 0.26])  # Ixx1, Ixx2, Ixx3, Iyy1, Iyy2, Iyy3, Izz1, Izz2, Izz3\n",
    "    if not mass:\n",
    "        mass = np.array([200.0, 20.0, 50.0, 50.0]) # m0=mass of satellite and the rest are link masses\n",
    "#     Is_xx, Is_yy, Is_zz = Is\n",
    "    Ixx1, Ixx2, Ixx3, Iyy1, Iyy2, Iyy3, Izz1, Izz2, Izz3 = I_link\n",
    "    alpha, beta, gamma = spacecraft_angles\n",
    "    m0, m1, m2, m3 = mass\n",
    "    theta_1, theta_2, theta_3 = joint_angles\n",
    "    alpha_d, beta_d, gamma_d = spacecraft_vel\n",
    "    theta_1d, theta_2d, theta_3d = joint_vel\n",
    "    return Lm_d(Ixx1, Ixx2, Ixx3, Iyy1, Iyy2, Iyy3, Izz1, Izz2, Izz3, alpha, alpha_d, beta, beta_d, gamma, gamma_d, m0, m1, m2, m3, theta_1, theta_1d, theta_2, theta_2d, theta_3, theta_3d)"
   ]
  },
  {
   "cell_type": "code",
   "execution_count": 18,
   "metadata": {},
   "outputs": [],
   "source": [
    "phi_s = np.array([0.1, 0.2, 0.3])  # alpha, beta, gamma\n",
    "q = np.array([0.01, 0.2, 0.15])  # theta_1, theta_2, theta_3\n",
    "phi_s_dot = np.array([.1, .2, .3])\n",
    "q_dot = np.array([.3, .4, .5])"
   ]
  },
  {
   "cell_type": "code",
   "execution_count": 32,
   "metadata": {},
   "outputs": [],
   "source": [
    "# mass_matrix(phi_s, q)\n",
    "# coriolis_vector(phi_s, q, phi_s_dot, q_dot)\n",
    "# calculate_Ls(phi_s, q)\n",
    "# calculate_Lm(phi_s, q)\n",
    "# Ls_derivative(phi_s, q, phi_s_dot, q_dot)\n",
    "# Lm_derivative(phi_s, q, phi_s_dot, q_dot)"
   ]
  },
  {
   "cell_type": "code",
   "execution_count": 21,
   "metadata": {},
   "outputs": [],
   "source": []
  },
  {
   "cell_type": "code",
   "execution_count": 24,
   "metadata": {},
   "outputs": [],
   "source": []
  },
  {
   "cell_type": "code",
   "execution_count": 26,
   "metadata": {},
   "outputs": [],
   "source": []
  },
  {
   "cell_type": "code",
   "execution_count": 30,
   "metadata": {},
   "outputs": [],
   "source": []
  },
  {
   "cell_type": "code",
   "execution_count": null,
   "metadata": {},
   "outputs": [],
   "source": []
  }
 ],
 "metadata": {
  "kernelspec": {
   "display_name": "Python 3",
   "language": "python",
   "name": "python3"
  },
  "language_info": {
   "codemirror_mode": {
    "name": "ipython",
    "version": 3
   },
   "file_extension": ".py",
   "mimetype": "text/x-python",
   "name": "python",
   "nbconvert_exporter": "python",
   "pygments_lexer": "ipython3",
   "version": "3.7.3"
  }
 },
 "nbformat": 4,
 "nbformat_minor": 2
}
