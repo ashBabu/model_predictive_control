{
 "cells": [
  {
   "cell_type": "code",
   "execution_count": 95,
   "metadata": {},
   "outputs": [],
   "source": [
    "import numpy as np\n",
    "from sympy import *\n",
    "import matplotlib.pyplot as plt\n",
    "import pickle\n",
    "\n",
    "from MassMatrix.wrapper_module_0 import autofunc_c as MassMatrix\n",
    "from CoriolisVector.wrapper_module_1 import autofunc_c as CoriolisVector\n",
    "from Ls.wrapper_module_2 import autofunc_c as Ls\n",
    "from Lm.wrapper_module_3 import autofunc_c as Lm\n",
    "from Ls_derivative.wrapper_module_4 import autofunc_c as Ls_d\n",
    "from Lm_derivative.wrapper_module_5 import autofunc_c as Lm_d\n",
    "\n",
    "from pympc.geometry.polyhedron import Polyhedron\n",
    "from pympc.dynamics.discrete_time_systems import LinearSystem\n",
    "from pympc.control.controllers import ModelPredictiveController\n",
    "from pympc.plot import plot_input_sequence, plot_state_trajectory, plot_state_space_trajectory\n"
   ]
  },
  {
   "cell_type": "code",
   "execution_count": 96,
   "metadata": {},
   "outputs": [],
   "source": [
    "def mass_matrix(spacecraft_angles=None, joint_angles=None, Is=None, I_link=None, mass=None):\n",
    "    if not Is:\n",
    "        Is = np.array([1400, 1400, 2040])\n",
    "    if not I_link:\n",
    "        I_link = np.array([0.10, 0.25, 0.25, 0.10, 0.26, 0.26, 0.10, 0.26, 0.26])  # Ixx1, Ixx2, Ixx3, Iyy1, Iyy2, Iyy3, Izz1, Izz2, Izz3\n",
    "    if not mass:\n",
    "        mass = np.array([200.0, 20.0, 50.0, 50.0]) # m0=mass of satellite and the rest are link masses\n",
    "    Is_xx, Is_yy, Is_zz = Is\n",
    "    Ixx1, Ixx2, Ixx3, Iyy1, Iyy2, Iyy3, Izz1, Izz2, Izz3 = I_link\n",
    "    alpha, beta, gamma = spacecraft_angles\n",
    "    m0, m1, m2, m3 = mass\n",
    "    theta_1, theta_2, theta_3 = joint_angles\n",
    "    return MassMatrix(Is_xx, Is_yy, Is_zz, Ixx1, Ixx2, Ixx3, Iyy1, Iyy2, Iyy3, Izz1, Izz2, Izz3, alpha, beta, gamma, m0, m1, m2, m3, theta_1, theta_2, theta_3)"
   ]
  },
  {
   "cell_type": "code",
   "execution_count": 97,
   "metadata": {},
   "outputs": [],
   "source": [
    "def coriolis_vector(spacecraft_angles=None, joint_angles=None, spacecraft_vel=None, joint_vel=None, Is=None, I_link=None, mass=None):\n",
    "    if not Is:\n",
    "        Is = np.array([1400, 1400, 2040])\n",
    "    if not I_link:\n",
    "        I_link = np.array([0.10, 0.25, 0.25, 0.10, 0.26, 0.26, 0.10, 0.26, 0.26])  # Ixx1, Ixx2, Ixx3, Iyy1, Iyy2, Iyy3, Izz1, Izz2, Izz3\n",
    "    if not mass:\n",
    "        mass = np.array([200.0, 20.0, 50.0, 50.0]) # m0=mass of satellite and the rest are link masses\n",
    "    Is_xx, Is_yy, Is_zz = Is\n",
    "    Ixx1, Ixx2, Ixx3, Iyy1, Iyy2, Iyy3, Izz1, Izz2, Izz3 = I_link\n",
    "    alpha, beta, gamma = spacecraft_angles\n",
    "    m0, m1, m2, m3 = mass\n",
    "    theta_1, theta_2, theta_3 = joint_angles\n",
    "    alpha_d, beta_d, gamma_d = spacecraft_vel\n",
    "    theta_1d, theta_2d, theta_3d = joint_vel\n",
    "    return CoriolisVector(Is_xx, Is_yy, Is_zz, Ixx1, Ixx2, Ixx3, Iyy1, Iyy2, Iyy3, Izz1, Izz2, Izz3, alpha, alpha_d, beta, beta_d, gamma, gamma_d, m0, m1, m2, m3, theta_1, theta_1d, theta_2, theta_2d, theta_3, theta_3d)"
   ]
  },
  {
   "cell_type": "code",
   "execution_count": 98,
   "metadata": {},
   "outputs": [],
   "source": [
    "def calculate_Ls(spacecraft_angles=None, joint_angles=None, Is=None, I_link=None, mass=None):\n",
    "    if not Is:\n",
    "        Is = np.array([1400, 1400, 2040])\n",
    "    if not I_link:\n",
    "        I_link = np.array([0.10, 0.25, 0.25, 0.10, 0.26, 0.26, 0.10, 0.26, 0.26])  # Ixx1, Ixx2, Ixx3, Iyy1, Iyy2, Iyy3, Izz1, Izz2, Izz3\n",
    "    if not mass:\n",
    "        mass = np.array([200.0, 20.0, 50.0, 50.0]) # m0=mass of satellite and the rest are link masses\n",
    "    Is_xx, Is_yy, Is_zz = Is\n",
    "    Ixx1, Ixx2, Ixx3, Iyy1, Iyy2, Iyy3, Izz1, Izz2, Izz3 = I_link\n",
    "    alpha, beta, gamma = spacecraft_angles\n",
    "    m0, m1, m2, m3 = mass\n",
    "    theta_1, theta_2, theta_3 = joint_angles\n",
    "    return Ls(Is_xx, Is_yy, Is_zz, Ixx1, Ixx2, Ixx3, Iyy1, Iyy2, Iyy3, Izz1, Izz2, Izz3, alpha, beta, gamma, m0, m1, m2, m3, theta_1, theta_2, theta_3)"
   ]
  },
  {
   "cell_type": "code",
   "execution_count": 99,
   "metadata": {},
   "outputs": [],
   "source": [
    "def calculate_Lm(spacecraft_angles=None, joint_angles=None, Is=None, I_link=None, mass=None):\n",
    "    if not Is:\n",
    "        Is = np.array([1400, 1400, 2040])\n",
    "    if not I_link:\n",
    "        I_link = np.array([0.10, 0.25, 0.25, 0.10, 0.26, 0.26, 0.10, 0.26, 0.26])  # Ixx1, Ixx2, Ixx3, Iyy1, Iyy2, Iyy3, Izz1, Izz2, Izz3\n",
    "    if not mass:\n",
    "        mass = np.array([200.0, 20.0, 50.0, 50.0]) # m0=mass of satellite and the rest are link masses\n",
    "    Is_xx, Is_yy, Is_zz = Is\n",
    "    Ixx1, Ixx2, Ixx3, Iyy1, Iyy2, Iyy3, Izz1, Izz2, Izz3 = I_link\n",
    "    alpha, beta, gamma = spacecraft_angles\n",
    "    m0, m1, m2, m3 = mass\n",
    "    theta_1, theta_2, theta_3 = joint_angles\n",
    "    return Lm(Ixx1, Ixx2, Ixx3, Iyy1, Iyy2, Iyy3, Izz1, Izz2, Izz3, alpha, beta, gamma, m0, m1, m2, m3, theta_1, theta_2, theta_3)"
   ]
  },
  {
   "cell_type": "code",
   "execution_count": 100,
   "metadata": {},
   "outputs": [],
   "source": [
    "def Ls_derivative(spacecraft_angles=None, joint_angles=None, spacecraft_vel=None, joint_vel=None, Is=None, I_link=None, mass=None):\n",
    "    if not Is:\n",
    "        Is = np.array([1400, 1400, 2040])\n",
    "    if not I_link:\n",
    "        I_link = np.array([0.10, 0.25, 0.25, 0.10, 0.26, 0.26, 0.10, 0.26, 0.26])  # Ixx1, Ixx2, Ixx3, Iyy1, Iyy2, Iyy3, Izz1, Izz2, Izz3\n",
    "    if not mass:\n",
    "        mass = np.array([200.0, 20.0, 50.0, 50.0]) # m0=mass of satellite and the rest are link masses\n",
    "    Is_xx, Is_yy, Is_zz = Is\n",
    "    Ixx1, Ixx2, Ixx3, Iyy1, Iyy2, Iyy3, Izz1, Izz2, Izz3 = I_link\n",
    "    alpha, beta, gamma = spacecraft_angles\n",
    "    m0, m1, m2, m3 = mass\n",
    "    theta_1, theta_2, theta_3 = joint_angles\n",
    "    alpha_d, beta_d, gamma_d = spacecraft_vel\n",
    "    theta_1d, theta_2d, theta_3d = joint_vel\n",
    "    return Ls_d(Is_xx, Is_yy, Is_zz, Ixx1, Ixx2, Ixx3, Iyy1, Iyy2, Iyy3, Izz1, Izz2, Izz3, alpha, alpha_d, beta, beta_d, gamma, gamma_d, m0, m1, m2, m3, theta_1, theta_1d, theta_2, theta_2d, theta_3, theta_3d)"
   ]
  },
  {
   "cell_type": "code",
   "execution_count": 101,
   "metadata": {},
   "outputs": [],
   "source": [
    "def Lm_derivative(spacecraft_angles=None, joint_angles=None, spacecraft_vel=None, joint_vel=None, Is=None, I_link=None, mass=None):\n",
    "#     if not Is:\n",
    "#         Is = np.array([1400, 1400, 2040])\n",
    "    if not I_link:\n",
    "        I_link = np.array([0.10, 0.25, 0.25, 0.10, 0.26, 0.26, 0.10, 0.26, 0.26])  # Ixx1, Ixx2, Ixx3, Iyy1, Iyy2, Iyy3, Izz1, Izz2, Izz3\n",
    "    if not mass:\n",
    "        mass = np.array([200.0, 20.0, 50.0, 50.0]) # m0=mass of satellite and the rest are link masses\n",
    "#     Is_xx, Is_yy, Is_zz = Is\n",
    "    Ixx1, Ixx2, Ixx3, Iyy1, Iyy2, Iyy3, Izz1, Izz2, Izz3 = I_link\n",
    "    alpha, beta, gamma = spacecraft_angles\n",
    "    m0, m1, m2, m3 = mass\n",
    "    theta_1, theta_2, theta_3 = joint_angles\n",
    "    alpha_d, beta_d, gamma_d = spacecraft_vel\n",
    "    theta_1d, theta_2d, theta_3d = joint_vel\n",
    "    return Lm_d(Ixx1, Ixx2, Ixx3, Iyy1, Iyy2, Iyy3, Izz1, Izz2, Izz3, alpha, alpha_d, beta, beta_d, gamma, gamma_d, m0, m1, m2, m3, theta_1, theta_1d, theta_2, theta_2d, theta_3, theta_3d)"
   ]
  },
  {
   "cell_type": "code",
   "execution_count": 102,
   "metadata": {},
   "outputs": [],
   "source": [
    "# Test Values and functions\n",
    "phi_s = np.array([0.1, 0.2, 0.3])  # alpha, beta, gamma\n",
    "q = np.array([0.01, 0.2, 0.15])  # theta_1, theta_2, theta_3\n",
    "phi_s_dot = np.array([.1, .2, .3])\n",
    "q_dot = np.array([.3, .4, .5])\n",
    "\n",
    "# mass_matrix(phi_s, q)\n",
    "# coriolis_vector(phi_s, q, phi_s_dot, q_dot)\n",
    "# calculate_Ls(phi_s, q)\n",
    "# calculate_Lm(phi_s, q)\n",
    "# Ls_derivative(phi_s, q, phi_s_dot, q_dot)\n",
    "# Lm_derivative(phi_s, q, phi_s_dot, q_dot)"
   ]
  },
  {
   "cell_type": "code",
   "execution_count": 103,
   "metadata": {},
   "outputs": [],
   "source": [
    "n_states, n_inputs = 6, 3\n",
    "identity = np.eye(int(n_states/2))\n",
    "zeros = np.zeros((int(n_states/2), int(n_states/2)))\n",
    "# Continuous time dynamics: \n",
    "A = np.vstack((np.hstack((zeros, identity)), np.hstack((zeros, zeros))))\n",
    "B = np.vstack((zeros, identity))\n",
    "h = .1\n",
    "method = 'zero_order_hold'\n",
    "S = LinearSystem.from_continuous(A, B, h, method)\n",
    "N = 10  # prediction horizon\n",
    "Q = 0.5 * np.eye(n_states)\n",
    "R = 0.2 * np.eye(n_inputs)"
   ]
  },
  {
   "cell_type": "code",
   "execution_count": 104,
   "metadata": {},
   "outputs": [],
   "source": [
    "P, K = S.solve_dare(Q, R)"
   ]
  },
  {
   "cell_type": "code",
   "execution_count": 105,
   "metadata": {},
   "outputs": [],
   "source": [
    "u_min = -100 * np.ones(n_inputs)\n",
    "u_max = 100 * np.ones(n_inputs)\n",
    "U = Polyhedron.from_bounds(u_min, u_max)\n",
    "x_min = -100 * np.ones(n_states)\n",
    "x_max = 100 * np.ones(n_states)\n",
    "X = Polyhedron.from_bounds(x_min, x_max)\n",
    "D = X.cartesian_product(U)"
   ]
  },
  {
   "cell_type": "code",
   "execution_count": 106,
   "metadata": {},
   "outputs": [],
   "source": [
    "X_N = S.mcais(K, D)"
   ]
  },
  {
   "cell_type": "code",
   "execution_count": 107,
   "metadata": {},
   "outputs": [],
   "source": [
    "controller = ModelPredictiveController(S, N, Q, R, P, D, X_N)"
   ]
  },
  {
   "cell_type": "code",
   "execution_count": 108,
   "metadata": {},
   "outputs": [],
   "source": [
    "# Nsim = 50\n",
    "# x0 = np.array([.39, .39, .39, .39, .39, .39])\n",
    "# u = []\n",
    "# x = [x0]\n",
    "# for t in range(Nsim):\n",
    "#     u.append(controller.feedback(x[t]))\n",
    "#     x.append(S.A.dot(x[t]) + S.B.dot(u[t]))"
   ]
  },
  {
   "cell_type": "code",
   "execution_count": 109,
   "metadata": {},
   "outputs": [],
   "source": [
    "# plot_input_sequence(u, h, (u_min, u_max))\n",
    "# plt.show()\n",
    "# plot_state_trajectory(x, h, (x_min, x_max))\n",
    "# plt.show()"
   ]
  },
  {
   "cell_type": "code",
   "execution_count": 110,
   "metadata": {},
   "outputs": [],
   "source": [
    "with open('end_eff_cart_coord.pickle', 'rb') as eef:\n",
    "    eef_pos = pickle.loads(eef.read())"
   ]
  },
  {
   "cell_type": "code",
   "execution_count": 111,
   "metadata": {},
   "outputs": [
    {
     "data": {
      "text/plain": [
       "array([[0.5, 0.5, 0.5, 0.5, 0.5, 0.5, 0.5, 0.5, 0.5, 0.5],\n",
       "       [0.5, 0.5, 0.5, 0.5, 0.5, 0.5, 0.5, 0.5, 0.5, 0.5],\n",
       "       [0. , 0. , 0. , 0. , 0. , 0. , 0. , 0. , 0. , 0. ]])"
      ]
     },
     "execution_count": 111,
     "metadata": {},
     "output_type": "execute_result"
    }
   ],
   "source": [
    "tt = 0.5\n",
    "eef_vel = np.vstack((tt*np.ones(eef_pos.shape[1]), tt*np.ones(eef_pos.shape[1]), np.zeros(eef_pos.shape[1])))\n",
    "x_ref = np.vstack((eef_pos, eef_vel))\n",
    "eef_vel[:, 0:10]"
   ]
  },
  {
   "cell_type": "code",
   "execution_count": 112,
   "metadata": {},
   "outputs": [],
   "source": [
    "Nsim = x_ref.shape[1]\n",
    "x0 = np.array([3.39, 3.39, 3.39, 3.39, 3.39, 3.39])\n",
    "u, x = [], [x0]\n",
    "for t in range(Nsim):\n",
    "    xx = x[t] - x_ref[:, t]\n",
    "    u.append(controller.feedback(xx))\n",
    "    x.append(S.A.dot(x[t]) + S.B.dot(u[t]))"
   ]
  },
  {
   "cell_type": "code",
   "execution_count": 113,
   "metadata": {},
   "outputs": [
    {
     "data": {
      "text/plain": [
       "array([[3.78177243, 3.81592475, 3.85406705, 3.89508893, 3.9390328 ],\n",
       "       [3.7286487 , 3.69312889, 3.65209626, 3.60614168, 3.554428  ],\n",
       "       [0.        , 0.        , 0.        , 0.        , 0.        ],\n",
       "       [0.5       , 0.5       , 0.5       , 0.5       , 0.5       ],\n",
       "       [0.5       , 0.5       , 0.5       , 0.5       , 0.5       ],\n",
       "       [0.        , 0.        , 0.        , 0.        , 0.        ]])"
      ]
     },
     "execution_count": 113,
     "metadata": {},
     "output_type": "execute_result"
    }
   ],
   "source": [
    "# plot_input_sequence(u, h, (u_min, u_max))\n",
    "# plt.show()\n",
    "# plot_state_trajectory(x, h, (x_min, x_max))\n",
    "# plt.show()\n",
    "len(x), len(u), x[0].shape\n",
    "x_ref[:, 3:8]"
   ]
  },
  {
   "cell_type": "code",
   "execution_count": 94,
   "metadata": {},
   "outputs": [
    {
     "data": {
      "image/png": "[encoded data removed]",
      "text/plain": [
       "<Figure size 432x288 with 1 Axes>"
      ]
     },
     "metadata": {
      "needs_background": "light"
     },
     "output_type": "display_data"
    },
    {
     "data": {
      "image/png": "[encoded data removed]",
      "text/plain": [
       "<Figure size 432x288 with 1 Axes>"
      ]
     },
     "metadata": {
      "needs_background": "light"
     },
     "output_type": "display_data"
    }
   ],
   "source": [
    "xx, yy, = np.zeros(len(x)), np.zeros(len(x))\n",
    "for i in range(len(x)):\n",
    "    xx[i], yy[i] = x[i][0], x[i][1]\n",
    "plt.figure()\n",
    "plt.plot(xx, 'b', label='optimized x')\n",
    "plt.plot(x_ref[0, :], 'b--', label='ref x')\n",
    "plt.plot(yy, 'r', label='optimized y')\n",
    "plt.plot(x_ref[1, :], 'r--', label='ref y')\n",
    "plt.legend()\n",
    "plt.show()\n",
    "\n",
    "u1, u2, u3 = np.zeros(len(u)), np.zeros(len(u)), np.zeros(len(u))\n",
    "for i in range(len(u)):\n",
    "    u1[i], u2[i], u3[i] = u[i][0], u[i][1], u[i][2]\n",
    "plt.plot(u1, label='tau_1')\n",
    "plt.plot(u2, label='tau_2')\n",
    "plt.plot(u3, label='tau_3')\n",
    "plt.legend()\n",
    "plt.show()"
   ]
  },
  {
   "cell_type": "code",
   "execution_count": 21,
   "metadata": {},
   "outputs": [],
   "source": [
    "from mpc_optimizer import mpc_opt\n",
    "mpc = mpc_opt(Q=Q, P=P, R=R, A=A, B=B, C=np.eye(6), time=np.linspace(0, 10, Nsim), ul=u_min.reshape((len(u_min), 1)),\n",
    "                       uh=u_max.reshape((len(u_max), 1)), xl=x_min.reshape((len(x_min), 1)),\n",
    "              xh=x_max.reshape((len(x_max), 1)), N=N, ref_traj=x_ref)"
   ]
  },
  {
   "cell_type": "code",
   "execution_count": 22,
   "metadata": {},
   "outputs": [
    {
     "name": "stdout",
     "output_type": "stream",
     "text": [
      "i = : 0\n",
      "Optimization terminated successfully.    (Exit mode 0)\n",
      "            Current function value: -23948.599250255196\n",
      "            Iterations: 13\n",
      "            Function evaluations: 36\n",
      "            Gradient evaluations: 13\n",
      "i = : 1\n",
      "Optimization terminated successfully.    (Exit mode 0)\n",
      "            Current function value: -23948.599250269348\n",
      "            Iterations: 1\n",
      "            Function evaluations: 6\n",
      "            Gradient evaluations: 1\n",
      "i = : 2\n",
      "Optimization terminated successfully.    (Exit mode 0)\n",
      "            Current function value: -23948.59925027031\n",
      "            Iterations: 1\n",
      "            Function evaluations: 5\n",
      "            Gradient evaluations: 1\n",
      "i = : 3\n",
      "Optimization terminated successfully.    (Exit mode 0)\n",
      "            Current function value: -23947.800178182722\n",
      "            Iterations: 4\n",
      "            Function evaluations: 14\n",
      "            Gradient evaluations: 4\n",
      "i = : 4\n",
      "Optimization terminated successfully.    (Exit mode 0)\n",
      "            Current function value: -23944.247166173634\n",
      "            Iterations: 4\n",
      "            Function evaluations: 14\n",
      "            Gradient evaluations: 4\n",
      "i = : 5\n",
      "Optimization terminated successfully.    (Exit mode 0)\n",
      "            Current function value: -23936.66542056392\n",
      "            Iterations: 4\n",
      "            Function evaluations: 14\n",
      "            Gradient evaluations: 4\n",
      "i = : 6\n",
      "Optimization terminated successfully.    (Exit mode 0)\n",
      "            Current function value: -23923.26828323089\n",
      "            Iterations: 4\n",
      "            Function evaluations: 14\n",
      "            Gradient evaluations: 4\n",
      "i = : 7\n",
      "Optimization terminated successfully.    (Exit mode 0)\n",
      "            Current function value: -23901.075216160738\n",
      "            Iterations: 4\n",
      "            Function evaluations: 14\n",
      "            Gradient evaluations: 4\n",
      "i = : 8\n",
      "Optimization terminated successfully.    (Exit mode 0)\n",
      "            Current function value: -23864.489039117325\n",
      "            Iterations: 4\n",
      "            Function evaluations: 14\n",
      "            Gradient evaluations: 4\n",
      "i = : 9\n",
      "Optimization terminated successfully.    (Exit mode 0)\n",
      "            Current function value: -23801.088329544036\n",
      "            Iterations: 8\n",
      "            Function evaluations: 24\n",
      "            Gradient evaluations: 8\n",
      "i = : 10\n",
      "Optimization terminated successfully.    (Exit mode 0)\n",
      "            Current function value: -23681.55565235723\n",
      "            Iterations: 7\n",
      "            Function evaluations: 24\n",
      "            Gradient evaluations: 7\n",
      "i = : 11\n",
      "Optimization terminated successfully.    (Exit mode 0)\n",
      "            Current function value: -23433.34749351228\n",
      "            Iterations: 8\n",
      "            Function evaluations: 23\n",
      "            Gradient evaluations: 8\n",
      "i = : 12\n",
      "Optimization terminated successfully.    (Exit mode 0)\n",
      "            Current function value: -22879.588393312006\n",
      "            Iterations: 7\n",
      "            Function evaluations: 23\n",
      "            Gradient evaluations: 7\n",
      "i = : 13\n",
      "Optimization terminated successfully.    (Exit mode 0)\n",
      "            Current function value: -21651.007660923977\n",
      "            Iterations: 7\n",
      "            Function evaluations: 23\n",
      "            Gradient evaluations: 7\n",
      "i = : 14\n",
      "Optimization terminated successfully.    (Exit mode 0)\n",
      "            Current function value: -19310.846553112468\n",
      "            Iterations: 7\n",
      "            Function evaluations: 22\n",
      "            Gradient evaluations: 7\n",
      "i = : 15\n",
      "Optimization terminated successfully.    (Exit mode 0)\n",
      "            Current function value: -16126.120170868006\n",
      "            Iterations: 8\n",
      "            Function evaluations: 23\n",
      "            Gradient evaluations: 8\n",
      "i = : 16\n",
      "Optimization terminated successfully.    (Exit mode 0)\n",
      "            Current function value: -13220.505763476514\n",
      "            Iterations: 8\n",
      "            Function evaluations: 23\n",
      "            Gradient evaluations: 8\n",
      "i = : 17\n",
      "Optimization terminated successfully.    (Exit mode 0)\n",
      "            Current function value: -11156.900744917948\n",
      "            Iterations: 8\n",
      "            Function evaluations: 23\n",
      "            Gradient evaluations: 8\n",
      "i = : 18\n",
      "Optimization terminated successfully.    (Exit mode 0)\n",
      "            Current function value: -9759.46615247555\n",
      "            Iterations: 8\n",
      "            Function evaluations: 23\n",
      "            Gradient evaluations: 8\n",
      "i = : 19\n",
      "Optimization terminated successfully.    (Exit mode 0)\n",
      "            Current function value: -8747.630958345062\n",
      "            Iterations: 7\n",
      "            Function evaluations: 23\n",
      "            Gradient evaluations: 7\n",
      "i = : 20\n",
      "Optimization terminated successfully.    (Exit mode 0)\n",
      "            Current function value: -7944.634360142734\n",
      "            Iterations: 8\n",
      "            Function evaluations: 23\n",
      "            Gradient evaluations: 8\n",
      "i = : 21\n",
      "Optimization terminated successfully.    (Exit mode 0)\n",
      "            Current function value: -7260.915962631081\n",
      "            Iterations: 8\n",
      "            Function evaluations: 23\n",
      "            Gradient evaluations: 8\n",
      "i = : 22\n",
      "Optimization terminated successfully.    (Exit mode 0)\n",
      "            Current function value: -6654.31215850045\n",
      "            Iterations: 7\n",
      "            Function evaluations: 23\n",
      "            Gradient evaluations: 7\n",
      "i = : 23\n",
      "Optimization terminated successfully.    (Exit mode 0)\n",
      "            Current function value: -6105.305026646343\n",
      "            Iterations: 7\n",
      "            Function evaluations: 23\n",
      "            Gradient evaluations: 7\n",
      "i = : 24\n",
      "Optimization terminated successfully.    (Exit mode 0)\n",
      "            Current function value: -5604.657218814304\n",
      "            Iterations: 7\n",
      "            Function evaluations: 23\n",
      "            Gradient evaluations: 7\n",
      "i = : 25\n",
      "Optimization terminated successfully.    (Exit mode 0)\n",
      "            Current function value: -5147.670230173996\n",
      "            Iterations: 7\n",
      "            Function evaluations: 23\n",
      "            Gradient evaluations: 7\n",
      "i = : 26\n",
      "Optimization terminated successfully.    (Exit mode 0)\n",
      "            Current function value: -4731.590043831962\n",
      "            Iterations: 7\n",
      "            Function evaluations: 23\n",
      "            Gradient evaluations: 7\n",
      "i = : 27\n",
      "Optimization terminated successfully.    (Exit mode 0)\n",
      "            Current function value: -4354.465138659456\n",
      "            Iterations: 8\n",
      "            Function evaluations: 23\n",
      "            Gradient evaluations: 8\n",
      "i = : 28\n",
      "Optimization terminated successfully.    (Exit mode 0)\n",
      "            Current function value: -4014.6904076997166\n",
      "            Iterations: 8\n",
      "            Function evaluations: 23\n",
      "            Gradient evaluations: 8\n",
      "i = : 29\n",
      "Optimization terminated successfully.    (Exit mode 0)\n",
      "            Current function value: -3710.8909384062545\n",
      "            Iterations: 7\n",
      "            Function evaluations: 22\n",
      "            Gradient evaluations: 7\n",
      "i = : 30\n",
      "Optimization terminated successfully.    (Exit mode 0)\n",
      "            Current function value: -3441.969854264626\n",
      "            Iterations: 8\n",
      "            Function evaluations: 23\n",
      "            Gradient evaluations: 8\n",
      "i = : 31\n",
      "Optimization terminated successfully.    (Exit mode 0)\n",
      "            Current function value: -3207.205514291444\n",
      "            Iterations: 7\n",
      "            Function evaluations: 23\n",
      "            Gradient evaluations: 7\n",
      "i = : 32\n",
      "Optimization terminated successfully.    (Exit mode 0)\n",
      "            Current function value: -3006.3106475842874\n",
      "            Iterations: 7\n",
      "            Function evaluations: 23\n",
      "            Gradient evaluations: 7\n",
      "i = : 33\n",
      "Optimization terminated successfully.    (Exit mode 0)\n",
      "            Current function value: -2839.398680348011\n",
      "            Iterations: 7\n",
      "            Function evaluations: 23\n",
      "            Gradient evaluations: 7\n",
      "i = : 34\n",
      "Optimization terminated successfully.    (Exit mode 0)\n",
      "            Current function value: -2706.8509855515913\n",
      "            Iterations: 7\n",
      "            Function evaluations: 23\n",
      "            Gradient evaluations: 7\n",
      "i = : 35\n",
      "Optimization terminated successfully.    (Exit mode 0)\n",
      "            Current function value: -2609.1275629833976\n",
      "            Iterations: 8\n",
      "            Function evaluations: 23\n",
      "            Gradient evaluations: 8\n",
      "i = : 36\n",
      "Optimization terminated successfully.    (Exit mode 0)\n",
      "            Current function value: -2546.587227152538\n",
      "            Iterations: 8\n",
      "            Function evaluations: 23\n",
      "            Gradient evaluations: 8\n",
      "i = : 37\n",
      "Optimization terminated successfully.    (Exit mode 0)\n",
      "            Current function value: -2518.7362661441293\n",
      "            Iterations: 7\n",
      "            Function evaluations: 23\n",
      "            Gradient evaluations: 7\n",
      "i = : 38\n"
     ]
    },
    {
     "name": "stdout",
     "output_type": "stream",
     "text": [
      "Optimization terminated successfully.    (Exit mode 0)\n",
      "            Current function value: -2526.897879836095\n",
      "            Iterations: 7\n",
      "            Function evaluations: 23\n",
      "            Gradient evaluations: 7\n",
      "i = : 39\n",
      "Optimization terminated successfully.    (Exit mode 0)\n",
      "            Current function value: -2569.7263131168356\n",
      "            Iterations: 7\n",
      "            Function evaluations: 23\n",
      "            Gradient evaluations: 7\n",
      "i = : 40\n",
      "Optimization terminated successfully.    (Exit mode 0)\n",
      "            Current function value: -2646.503353395643\n",
      "            Iterations: 7\n",
      "            Function evaluations: 23\n",
      "            Gradient evaluations: 7\n",
      "i = : 41\n",
      "Optimization terminated successfully.    (Exit mode 0)\n",
      "            Current function value: -2756.25239696448\n",
      "            Iterations: 7\n",
      "            Function evaluations: 23\n",
      "            Gradient evaluations: 7\n",
      "i = : 42\n",
      "Optimization terminated successfully.    (Exit mode 0)\n",
      "            Current function value: -2900.2911814796053\n",
      "            Iterations: 7\n",
      "            Function evaluations: 23\n",
      "            Gradient evaluations: 7\n",
      "i = : 43\n",
      "Optimization terminated successfully.    (Exit mode 0)\n",
      "            Current function value: -3075.9056752212427\n",
      "            Iterations: 7\n",
      "            Function evaluations: 23\n",
      "            Gradient evaluations: 7\n",
      "i = : 44\n",
      "Optimization terminated successfully.    (Exit mode 0)\n",
      "            Current function value: -3281.907998488724\n",
      "            Iterations: 8\n",
      "            Function evaluations: 23\n",
      "            Gradient evaluations: 8\n",
      "i = : 45\n",
      "Optimization terminated successfully.    (Exit mode 0)\n",
      "            Current function value: -3488.283229663664\n",
      "            Iterations: 8\n",
      "            Function evaluations: 23\n",
      "            Gradient evaluations: 8\n"
     ]
    }
   ],
   "source": [
    "x0 = x0.reshape((len(x0), 1))\n",
    "u0 = np.array([[0.2], [0.3], [0.5]])\n",
    "\n",
    "X, U = mpc.get_state_and_input(u0, x0)"
   ]
  },
  {
   "cell_type": "code",
   "execution_count": 23,
   "metadata": {},
   "outputs": [
    {
     "data": {
      "text/plain": [
       "array([1.64860595, 1.64860529, 0.08387019, 1.64844024, 1.64843965,\n",
       "       0.08370444])"
      ]
     },
     "execution_count": 23,
     "metadata": {},
     "output_type": "execute_result"
    }
   ],
   "source": [
    "X[:, 2]"
   ]
  },
  {
   "cell_type": "code",
   "execution_count": null,
   "metadata": {},
   "outputs": [],
   "source": []
  }
 ],
 "metadata": {
  "kernelspec": {
   "display_name": "Python 3",
   "language": "python",
   "name": "python3"
  },
  "language_info": {
   "codemirror_mode": {
    "name": "ipython",
    "version": 3
   },
   "file_extension": ".py",
   "mimetype": "text/x-python",
   "name": "python",
   "nbconvert_exporter": "python",
   "pygments_lexer": "ipython3",
   "version": "3.7.3"
  }
 },
 "nbformat": 4,
 "nbformat_minor": 2
}
