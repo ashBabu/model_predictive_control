{
 "cells": [
  {
   "cell_type": "code",
   "execution_count": 35,
   "metadata": {},
   "outputs": [],
   "source": [
    "import pickle\n",
    "import numpy as np\n",
    "import sympy as sym\n",
    "from sympy.utilities.autowrap import autowrap\n",
    "sym.init_printing()"
   ]
  },
  {
   "cell_type": "code",
   "execution_count": 36,
   "metadata": {},
   "outputs": [],
   "source": [
    "def get_symbols():\n",
    "    alpha, beta, gamma = sym.symbols('alpha beta gamma')  # spacecraft angles\n",
    "    alphaDot, betaDot, gammaDot = sym.symbols('alphaDot betaDot gammaDot')  # spacecraft velocities\n",
    "    theta = sym.symbols('theta1:8')  # joint angles assuming 7DoF\n",
    "    thetaDot = sym.symbols('thetaDot1:8')  # joint velocities\n",
    "    ang_s = (alpha, beta, gamma)\n",
    "    omega_s = (alphaDot, betaDot, gammaDot)\n",
    "    return theta, thetaDot, ang_s, omega_s"
   ]
  },
  {
   "cell_type": "code",
   "execution_count": 37,
   "metadata": {},
   "outputs": [],
   "source": [
    "# states = Matrix([alpha, beta, gamma, theta_1, theta_2, theta_3, alpha_d, beta_d, gamma_d, theta_1d, theta_2d, theta_3d])\n",
    "theta, thetaDot, ang_s, omega_s = get_symbols()\n",
    "# MassMatrix = np.load('MassMatrix.npy', allow_pickle=True)\n",
    "# Coriolis = np.load('CoriolisVector.npy', allow_pickle=True)"
   ]
  },
  {
   "cell_type": "code",
   "execution_count": 38,
   "metadata": {},
   "outputs": [],
   "source": [
    "# with open('MassMat_sym.pickle', 'rb') as inM:\n",
    "#     MassMatrix = pickle.loads(inM.read())"
   ]
  },
  {
   "cell_type": "code",
   "execution_count": 39,
   "metadata": {},
   "outputs": [],
   "source": [
    "# Mass_C = autowrap(MassMatrix, backend='cython', tempdir='./MassMatrix')\n",
    "# print('mass written')"
   ]
  },
  {
   "cell_type": "code",
   "execution_count": 40,
   "metadata": {},
   "outputs": [],
   "source": [
    "# Mass_C = autowrap(MassMatrix, backend='cython', tempdir='./MassMatrix')\n",
    "# print('mass written')\n",
    "# Coriolis_C = autowrap(Coriolis, backend='cython', tempdir='./CoriolisVector')\n",
    "# print('coriolis written')"
   ]
  },
  {
   "cell_type": "code",
   "execution_count": 41,
   "metadata": {},
   "outputs": [
    {
     "name": "stdout",
     "output_type": "stream",
     "text": [
      "The Cython extension is already loaded. To reload it, use:\n",
      "  %reload_ext Cython\n"
     ]
    }
   ],
   "source": [
    "%load_ext Cython"
   ]
  },
  {
   "cell_type": "code",
   "execution_count": 42,
   "metadata": {},
   "outputs": [
    {
     "name": "stdout",
     "output_type": "stream",
     "text": [
      "Overwriting MassMatrix.pyxbld\n"
     ]
    }
   ],
   "source": [
    "%%writefile MassMatrix.pyxbld\n",
    "#            module name specified by `%%cython_pyximport` magic\n",
    "#            |        just `modname + \".pyx\"`\n",
    "#            |        |\n",
    "def make_ext(modname, pyxfilename):\n",
    "    from setuptools.extension import Extension\n",
    "    return Extension(modname,\n",
    "                     sources=[pyxfilename, 'MassMatrix.c'],\n",
    "                     include_dirs=['.', np.get_include()])"
   ]
  },
  {
   "cell_type": "code",
   "execution_count": 43,
   "metadata": {},
   "outputs": [
    {
     "name": "stdout",
     "output_type": "stream",
     "text": [
      "ok\n"
     ]
    }
   ],
   "source": [
    "print('ok')"
   ]
  },
  {
   "cell_type": "code",
   "execution_count": 47,
   "metadata": {},
   "outputs": [],
   "source": [
    "%%cython_pyximport MassMatrix\n",
    "cimport numpy as cnp # cimport gives us access to NumPy's C API\n",
    "# here we just replicate the function signature from the header\n",
    "cdef extern from \"MassMatrix.h\":\n",
    "    void MassMatrix(double *y, double *Mass_Matrix)\n",
    "\n",
    "# here is the \"wrapper\" signature that conforms to the odeint interface\n",
    "def MassMatrix(cnp.ndarray[cnp.double_t, ndim=1] y, double t):\n",
    "    # preallocate our output array\n",
    "    cdef cnp.ndarray[cnp.double_t, ndim=1] Mass_Matrix = np.empty(100, dtype=np.double)\n",
    "    # now call the C function\n",
    "    MassMatrix(<double *> y.data, <double *> Mass_Matrix.data)\n",
    "    # return the result\n",
    "    return Mass_Matrix"
   ]
  },
  {
   "cell_type": "code",
   "execution_count": 50,
   "metadata": {},
   "outputs": [
    {
     "data": {
      "text/plain": [
       "array([0.17796635, 0.51934012, 0.30273919, 0.73118138, 0.0037315 ,\n",
       "       0.99020296, 0.94158919, 0.99545889, 0.3583178 , 0.6668142 ])"
      ]
     },
     "execution_count": 50,
     "metadata": {},
     "output_type": "execute_result"
    }
   ],
   "source": [
    "rnd = np.random.rand(10)\n",
    "rnd\n",
    "MassMatrix(rnd, 1)"
   ]
  },
  {
   "cell_type": "code",
   "execution_count": null,
   "metadata": {},
   "outputs": [],
   "source": []
  }
 ],
 "metadata": {
  "kernelspec": {
   "display_name": "codegen17",
   "language": "python",
   "name": "codegen17"
  },
  "language_info": {
   "codemirror_mode": {
    "name": "ipython",
    "version": 3
   },
   "file_extension": ".py",
   "mimetype": "text/x-python",
   "name": "python",
   "nbconvert_exporter": "python",
   "pygments_lexer": "ipython3",
   "version": "3.6.10"
  }
 },
 "nbformat": 4,
 "nbformat_minor": 2
}
