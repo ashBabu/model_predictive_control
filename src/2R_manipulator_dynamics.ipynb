{
 "cells": [
  {
   "cell_type": "code",
   "execution_count": 1,
   "metadata": {},
   "outputs": [],
   "source": [
    "from IPython.display import Image \n",
    "from IPython.display import IFrame\n",
    "from sympy.utilities.autowrap import autowrap\n",
    "# IFrame(\"https://github.com/shyamashi/model_predictive_control/blob/master/src/2R%20manipulator%20theory/2R_manipulator_EOM.pdf\", width=900, height=800)\n",
    "# Image(filename='/home/ar0058/Repo/model_predictive_control/src/2R manipulator theory/2R_manip_2.png') "
   ]
  },
  {
   "cell_type": "markdown",
   "metadata": {},
   "source": [
    "The dynamic equations can be written as\n"
   ]
  },
  {
   "cell_type": "code",
   "execution_count": 2,
   "metadata": {},
   "outputs": [
    {
     "data": {
      "text/latex": [
       "\\begin{align*}\n",
       "M(q)\\ddot{q} + C(q, \\dot{q}) + G(q) = \\tau\n",
       "\\end{align*}"
      ],
      "text/plain": [
       "<IPython.core.display.Latex object>"
      ]
     },
     "execution_count": 2,
     "metadata": {},
     "output_type": "execute_result"
    }
   ],
   "source": [
    "from IPython.display import Latex\n",
    "Latex(r\"\"\"\\begin{align*}\n",
    "M(q)\\ddot{q} + C(q, \\dot{q}) + G(q) = \\tau\n",
    "\\end{align*}\"\"\")"
   ]
  },
  {
   "cell_type": "code",
   "execution_count": 3,
   "metadata": {},
   "outputs": [
    {
     "data": {
      "text/latex": [
       "\\begin{multline}\n",
       "(I_1 + I_2 + m_2l_1^2 + m_1 r_{1_{cm}}^2 + m_2 r_{2_{cm}}^2 + 2 m_2 l_1 r_{2_{cm}} \\cos\\theta_2)\\ddot{\\theta}_1 + (I_2 + m_2 r_{2_{cm}}^2 + m_2 l_1 r_{2_{cm}} \\cos\\theta_2) \\ddot{\\theta}_2 - \\\\m_2 l_1 r_{2_{cm}} \\sin\\theta_2(2\\dot{\\theta}_1 + \\dot{\\theta}_2) \\dot{\\theta}_2 + m_2 g (l_1 \\cos\\theta_1 + r_{2_{cm}} \\cos(\\theta_1 + \\theta_2)) +m_1 g r_{1_{cm}} \\cos\\theta_1 = \\tau_1\n",
       "\\\\\n",
       "(I_2 + m_2 r_{2_{cm}}^2 + m_2l_1r_{2_{cm}} \\cos\\theta_2) \\ddot{\\theta}_1 + (I_2 + m_2 r_{2_{cm}}^2) \\ddot{\\theta}_2 + m_2 l_1 r_{2_{cm}} \\sin\\theta_2 \\dot{\\theta}_1^2 + m_2 r_{2_{cm}} g \\cos(\\theta_1 + \\theta_2) = \\tau_2\n",
       "\\end{multline}"
      ],
      "text/plain": [
       "<IPython.core.display.Latex object>"
      ]
     },
     "execution_count": 3,
     "metadata": {},
     "output_type": "execute_result"
    }
   ],
   "source": [
    "Latex(r\"\"\"\\begin{multline}\n",
    "(I_1 + I_2 + m_2l_1^2 + m_1 r_{1_{cm}}^2 + m_2 r_{2_{cm}}^2 + 2 m_2 l_1 r_{2_{cm}} \\cos\\theta_2)\\ddot{\\theta}_1 + (I_2 + m_2 r_{2_{cm}}^2 + m_2 l_1 r_{2_{cm}} \\cos\\theta_2) \\ddot{\\theta}_2 - \\\\m_2 l_1 r_{2_{cm}} \\sin\\theta_2(2\\dot{\\theta}_1 + \\dot{\\theta}_2) \\dot{\\theta}_2 + m_2 g (l_1 \\cos\\theta_1 + r_{2_{cm}} \\cos(\\theta_1 + \\theta_2)) +m_1 g r_{1_{cm}} \\cos\\theta_1 = \\tau_1\n",
    "\\\\\n",
    "(I_2 + m_2 r_{2_{cm}}^2 + m_2l_1r_{2_{cm}} \\cos\\theta_2) \\ddot{\\theta}_1 + (I_2 + m_2 r_{2_{cm}}^2) \\ddot{\\theta}_2 + m_2 l_1 r_{2_{cm}} \\sin\\theta_2 \\dot{\\theta}_1^2 + m_2 r_{2_{cm}} g \\cos(\\theta_1 + \\theta_2) = \\tau_2\n",
    "\\end{multline}\"\"\")"
   ]
  },
  {
   "cell_type": "code",
   "execution_count": 4,
   "metadata": {},
   "outputs": [],
   "source": [
    "import numpy as np\n",
    "import matplotlib.pyplot as plt\n",
    "from mpl_toolkits import mplot3d\n",
    "from sympy import *\n",
    "from sympy.physics.mechanics import *\n",
    "from sympy.tensor.array import Array\n",
    "init_printing()"
   ]
  },
  {
   "cell_type": "code",
   "execution_count": 5,
   "metadata": {},
   "outputs": [],
   "source": [
    "q1, q2 = dynamicsymbols('q1 q2')  # joint variables (same as theta_1, theta_2)\n",
    "r1, r2 = symbols('r1 r2')  # COM vector (same as r1_cm, r2_cm)\n",
    "q1d, q2d = dynamicsymbols('q1 q2', 1)  # angular velocities\n",
    "tau_1, tau_2, I1_zz, I2_zz, m1, m2 = symbols('tau_1 tau_2 I1_zz, I2_zz, m1, m2')  # Torques, Inertia about com Z axis, masses\n",
    "l1, l2, g = symbols('l_1 l_2 g', positive=True)  # link lengths and gravity magnitude\n",
    "\n",
    "t = np.linspace(0, 1, 50)\n",
    "\n",
    "l =[l1, l2]\n",
    "m = [m1, m2]\n",
    "q = [q1, q2]\n",
    "qd = [q1d, q2d]\n",
    "\n",
    "grav = transpose(Matrix([[0, g, 0]]))\n",
    "\n",
    "# Inertia tensor wrt centre of mass of each link\n",
    "I1 = zeros(3, 3)\n",
    "I1[2, 2] = I1_zz\n",
    "\n",
    "I2 = zeros(3, 3)\n",
    "I2[2, 2] = I2_zz\n",
    "\n",
    "I = [I1, I2]\n",
    "\n",
    "# COM vectors \n",
    "r11 = zeros(3, 1)\n",
    "r11[0] = r1\n",
    "\n",
    "r22 = zeros(3, 1)\n",
    "r22[0] = r2\n",
    "\n",
    "r = zeros(3, 2)\n",
    "r[:, 0] = r11\n",
    "r[:, 1] = r22\n",
    "\n",
    "# DH parameters of the 2R manipulator\n",
    "a = Array([0.0, l1, l2])\n",
    "d = Array([0.0, 0.0, 0.0])\n",
    "alpha = Array([0.0, 0.0, 0.0])\n",
    "\n",
    "\n"
   ]
  },
  {
   "cell_type": "code",
   "execution_count": 6,
   "metadata": {},
   "outputs": [],
   "source": [
    "# Symbolic forward kinematics from DH parameters\n",
    "def fwd_kin_symbolic(q):\n",
    "    q_i = Symbol(\"q_i\")\n",
    "    alpha_i = Symbol(\"alpha_i\")\n",
    "    a_i = Symbol(\"a_i\")\n",
    "    d_i = Symbol(\"d_i\")\n",
    "    T = Matrix([[cos(q_i), -sin(q_i), 0, a_i],\n",
    "                [sin(q_i) * cos(alpha_i), cos(q_i) * cos(alpha_i), -sin(alpha_i), -sin(alpha_i) * d_i],\n",
    "                [sin(q_i) * sin(alpha_i), cos(q_i) * sin(alpha_i), cos(alpha_i), cos(alpha_i) * d_i],\n",
    "                [0, 0, 0, 1]])\n",
    "    T_joint, T_i_i1 = [], []  #  T_joint and T_i_i1 are respectively the 4x4 transformation matrix relating i_th frame  wrt 0 and i+1 frame wrt i\n",
    "    t = eye(4)\n",
    "    for i in range(len(q)):\n",
    "        temp = T.subs(alpha_i, alpha[i]).subs(a_i, a[i]).subs(d_i, d[i]).subs(q_i, q[i])\n",
    "        t = t*temp\n",
    "        T_joint.append(t)\n",
    "        T_i_i1.append(temp)\n",
    "    return T_joint, T_i_i1\n"
   ]
  },
  {
   "cell_type": "markdown",
   "metadata": {},
   "source": [
    "The velocities of the joints are based on the following formulas"
   ]
  },
  {
   "cell_type": "code",
   "execution_count": 7,
   "metadata": {},
   "outputs": [
    {
     "data": {
      "text/latex": [
       "\\begin{align*}\n",
       "^i\\omega_i &=~ ^i _{i-1}[R]~^{i-1}\\omega_{i-1} +~ \\dot{\\theta}_i (0~ 0~ 1)^T \\\\\n",
       "^iV_i &=~ ^i _{i-1}[R]~^{i-1}V_{i-1} + ~^{i - 1}\\omega_{i - 1} \\times ~^{i - 1}O_i\n",
       "\\end{align*}"
      ],
      "text/plain": [
       "<IPython.core.display.Latex object>"
      ]
     },
     "execution_count": 7,
     "metadata": {},
     "output_type": "execute_result"
    }
   ],
   "source": [
    "Latex(r\"\"\"\\begin{align*}\n",
    "^i\\omega_i &=~ ^i _{i-1}[R]~^{i-1}\\omega_{i-1} +~ \\dot{\\theta}_i (0~ 0~ 1)^T \\\\\n",
    "^iV_i &=~ ^i _{i-1}[R]~^{i-1}V_{i-1} + ~^{i - 1}\\omega_{i - 1} \\times ~^{i - 1}O_i\n",
    "\\end{align*}\"\"\")"
   ]
  },
  {
   "cell_type": "markdown",
   "metadata": {},
   "source": [
    "The velocity of the centre of mass can be found as"
   ]
  },
  {
   "cell_type": "code",
   "execution_count": 8,
   "metadata": {},
   "outputs": [
    {
     "data": {
      "text/latex": [
       "\\begin{align*}\n",
       "^iV_{Ci} &=~ ^{i}V_{i} + ~^i \\omega_i \\times ~^iP_{Ci}\n",
       "\\end{align*}"
      ],
      "text/plain": [
       "<IPython.core.display.Latex object>"
      ]
     },
     "execution_count": 8,
     "metadata": {},
     "output_type": "execute_result"
    }
   ],
   "source": [
    "Latex(r\"\"\"\\begin{align*}\n",
    "^iV_{Ci} &=~ ^{i}V_{i} + ~^i \\omega_i \\times ~^iP_{Ci}\n",
    "\\end{align*}\"\"\")"
   ]
  },
  {
   "cell_type": "code",
   "execution_count": 9,
   "metadata": {},
   "outputs": [],
   "source": [
    "# For detailed explanation of the formulas, please refer to https://nptel.ac.in/courses/112108093/6\n",
    "def velocities(q):\n",
    "    omega = Matrix.zeros(3, len(q)+1)\n",
    "    joint_velocity = Matrix.zeros(3, len(q)+1)\n",
    "    cm_vel = Matrix.zeros(3, len(q))\n",
    "    _, t_i_i1 = fwd_kin_symbolic(q)  # T_i_i1 is the 4x4 transformation matrix of i+1 frame wrt to i\n",
    "    for i in range(len(q)):\n",
    "        R = t_i_i1[i][0:3, 0:3].transpose()\n",
    "        omega[:, i+1] = R * omega[:, i] + Matrix([[0], [0], [qd[i]]])\n",
    "        joint_velocity[:, i+1] = R * (joint_velocity[:, i] + omega[:, i].cross(t_i_i1[i][0:3, 3]))\n",
    "    omega, joint_velocity = omega[:, 1:], joint_velocity[:, 1:]\n",
    "    for i in range(len(q)):\n",
    "        # cm_vel[:, i] = joint_velocity[:, i] + omega[:, i].cross(t_i_i1[i][0:3, 3]/2)\n",
    "        cm_vel[:, i] = joint_velocity[:, i] + omega[:, i].cross(r[:, i])\n",
    "    return omega, cm_vel, joint_velocity"
   ]
  },
  {
   "cell_type": "code",
   "execution_count": 10,
   "metadata": {},
   "outputs": [],
   "source": [
    "def kinetic_energy(q):\n",
    "    w, cm_vel, joint_velocity = velocities(q)\n",
    "    K = 0\n",
    "    for i in range(len(q)):\n",
    "        K += 0.5*m[i]*cm_vel[:, i].dot(cm_vel[:, i]) + 0.5*w[:, i].dot(I[i]*w[:, i])\n",
    "    return K\n",
    "\n",
    "def potential_energy(q):\n",
    "    T_joint, _ = fwd_kin_symbolic(q)  # T_joint is the 4x4 transformation matrix relating i_th frame  wrt to 0\n",
    "    P = 0\n",
    "    for i in range(len(q)):\n",
    "        r_0_cm = T_joint[i][0:3, 0:3]*r[:, i] + T_joint[i][0:3, 3]  # com vector wrt 0\n",
    "        P += m[i]*grav.dot(r_0_cm)\n",
    "    return P"
   ]
  },
  {
   "cell_type": "code",
   "execution_count": 11,
   "metadata": {},
   "outputs": [],
   "source": [
    "def get_dyn_para(q, qd):\n",
    "    K = kinetic_energy(q)\n",
    "    P = potential_energy(q)\n",
    "    L = K - P  # Lagrangian\n",
    "    M = transpose(Matrix([[K]]).jacobian(qd)).jacobian(qd).applyfunc(trigsimp)  # Mass matrix\n",
    "    C = transpose(Matrix([[K]]).jacobian(qd)).jacobian(q) * Matrix(qd) - transpose(Matrix([[K]]).jacobian(q))  # Coriolis vector\n",
    "    C = C.applyfunc(trigsimp)\n",
    "    G = transpose(Matrix([[P]]).jacobian(q)).applyfunc(trigsimp)  # Gravity vector\n",
    "    # LM = LagrangesMethod(L, q)\n",
    "    # LM.form_lagranges_equations()\n",
    "    # print LM.mass_matrix.applyfunc(trigsimp)\n",
    "    # Matrix([P]).applyfunc(trigsimp)\n",
    "    return M, C, G"
   ]
  },
  {
   "cell_type": "code",
   "execution_count": 12,
   "metadata": {},
   "outputs": [],
   "source": [
    "# reference trajectory\n",
    "def ref_trajectory(self, i):  # y = 3*sin(2*pi*omega*t)\n",
    "    omega = 0.5\n",
    "    # y_ref = 3 * np.sin(2*np.pi*omega*t[i])\n",
    "    y_ref = np.array([[0], [2], [0]])\n",
    "    return y_ref\n",
    "    # return sp.Matrix(([[self.t[i]], [y], [0]]))"
   ]
  },
  {
   "cell_type": "code",
   "execution_count": 13,
   "metadata": {},
   "outputs": [],
   "source": [
    "T_eff = eye(4)\n",
    "T_eff[0, 3] = l2\n",
    "\n",
    "def fwd_kin_numeric(lp, qp):  # provide the values of link lengths and joint angles to get the end-eff pose\n",
    "    T_joint, _ = fwd_kin_symbolic(q)\n",
    "    T_0_eff = T_joint[-1] * T_eff\n",
    "    for i in range(len(q)):\n",
    "        T_0_eff = T_0_eff.subs(q[i], qp[i]).subs(l[i], lp[i])\n",
    "    Rot_0_eff = T_0_eff[0:3, 0:3]\n",
    "    pos_0_eff = T_0_eff[0:3, 3]\n",
    "    return pos_0_eff, Rot_0_eff\n",
    "\n",
    "def dyn_para_numeric(lp, qp, qdp):\n",
    "    M, C, G = get_dyn_para(q, qd)\n",
    "    for i in range(len(qp)):\n",
    "        M = M.subs(q[i], qp[i]).subs(l[i], lp[i])\n",
    "        C = C.subs(q[i], qp[i]).subs(l[i], lp[i]).subs(qd[i], qdp[i])\n",
    "        G = G.subs(q[i], qp[i]).subs(l[i], lp[i])\n",
    "    return M, C, G\n",
    "        \n"
   ]
  },
  {
   "cell_type": "code",
   "execution_count": 14,
   "metadata": {},
   "outputs": [
    {
     "data": {
      "image/png": "[encoded data removed]",
      "text/latex": [
       "$$\\left[\\begin{matrix}- 1.0 l_{1} m_{2} r_{2} \\left(2 \\frac{d}{d t} \\operatorname{q_{1}}{\\left (t \\right )} + \\frac{d}{d t} \\operatorname{q_{2}}{\\left (t \\right )}\\right) \\sin{\\left (\\operatorname{q_{2}}{\\left (t \\right )} \\right )} \\frac{d}{d t} \\operatorname{q_{2}}{\\left (t \\right )}\\\\1.0 l_{1} m_{2} r_{2} \\sin{\\left (\\operatorname{q_{2}}{\\left (t \\right )} \\right )} \\left(\\frac{d}{d t} \\operatorname{q_{1}}{\\left (t \\right )}\\right)^{2}\\end{matrix}\\right]$$"
      ],
      "text/plain": [
       "⎡              ⎛  d           d        ⎞            d        ⎤\n",
       "⎢-1.0⋅l₁⋅m₂⋅r₂⋅⎜2⋅──(q₁(t)) + ──(q₂(t))⎟⋅sin(q₂(t))⋅──(q₂(t))⎥\n",
       "⎢              ⎝  dt          dt       ⎠            dt       ⎥\n",
       "⎢                                                            ⎥\n",
       "⎢                                               2            ⎥\n",
       "⎢                                    ⎛d        ⎞             ⎥\n",
       "⎢            1.0⋅l₁⋅m₂⋅r₂⋅sin(q₂(t))⋅⎜──(q₁(t))⎟             ⎥\n",
       "⎣                                    ⎝dt       ⎠             ⎦"
      ]
     },
     "execution_count": 14,
     "metadata": {},
     "output_type": "execute_result"
    }
   ],
   "source": [
    "# output\n",
    "M, C, G = get_dyn_para(q, qd)\n",
    "# print('MassMatrix = \\n', M, '\\n\\n Coriolis_&_CentripetalVector = \\n', C, '\\n\\n Gravityvector = \\n', G)\n",
    "C"
   ]
  },
  {
   "cell_type": "code",
   "execution_count": 15,
   "metadata": {
    "scrolled": true
   },
   "outputs": [
    {
     "data": {
      "image/png": "[encoded data removed]",
      "text/latex": [
       "$$\\left [ \\frac{d}{d t} \\operatorname{q_{1}}{\\left (t \\right )}, \\quad \\frac{d}{d t} \\operatorname{q_{2}}{\\left (t \\right )}\\right ]$$"
      ],
      "text/plain": [
       "⎡d          d        ⎤\n",
       "⎢──(q₁(t)), ──(q₂(t))⎥\n",
       "⎣dt         dt       ⎦"
      ]
     },
     "execution_count": 15,
     "metadata": {},
     "output_type": "execute_result"
    }
   ],
   "source": [
    "qd"
   ]
  },
  {
   "cell_type": "code",
   "execution_count": 27,
   "metadata": {},
   "outputs": [],
   "source": [
    "alpha, beta, gamma = symbols('alpha beta gamma')\n",
    "alpha_d, beta_d, gamma_d = symbols('alpha_d beta_d gamma_d')\n",
    "theta_1, theta_2, theta_3 = symbols('theta_1 theta_2 theta_3')\n",
    "theta_1d, theta_2d, theta_3d = symbols('theta_1d theta_2d theta_3d')\n",
    "ang_s = [alpha, beta, gamma]\n",
    "omega_s = [alpha_d, beta_d, gamma_d]\n",
    "theta = [theta_1, theta_2, theta_3]\n",
    "theta_d = [theta_1d, theta_2d, theta_3d]\n",
    "tau_1, tau_2 = symbols('tau_1 tau_2')\n",
    "tau = Matrix([tau_1, tau_2])"
   ]
  },
  {
   "cell_type": "code",
   "execution_count": 22,
   "metadata": {},
   "outputs": [],
   "source": [
    "Cc = C.xreplace({qd[0]:alpha_d, qd[1]:beta_d, q[0]:alpha, q[1]:beta})\n",
    "Mm = M.xreplace({qd[0]:alpha_d, qd[1]:beta_d, q[0]:alpha, q[1]:beta})\n",
    "Gg = G.xreplace({qd[0]:alpha_d, qd[1]:beta_d, q[0]:alpha, q[1]:beta})"
   ]
  },
  {
   "cell_type": "code",
   "execution_count": 46,
   "metadata": {
    "scrolled": true
   },
   "outputs": [
    {
     "data": {
      "image/png": "[encoded data removed]",
      "text/latex": [
       "$$\\left[\\begin{matrix}\\alpha\\\\\\beta\\\\\\alpha_{d}\\\\\\beta_{d}\\end{matrix}\\right]$$"
      ],
      "text/plain": [
       "⎡ α ⎤\n",
       "⎢   ⎥\n",
       "⎢ β ⎥\n",
       "⎢   ⎥\n",
       "⎢α_d⎥\n",
       "⎢   ⎥\n",
       "⎣β_d⎦"
      ]
     },
     "execution_count": 46,
     "metadata": {},
     "output_type": "execute_result"
    }
   ],
   "source": [
    "states = Matrix([alpha, beta, alpha_d, beta_d])\n",
    "states\n",
    "const = Matrix([I1_zz, I2_zz, m1, m2, l1, l2, g, r1, r2])"
   ]
  },
  {
   "cell_type": "code",
   "execution_count": 69,
   "metadata": {},
   "outputs": [],
   "source": [
    "r = Mm.inv() @ (tau - Cc - Gg)\n",
    "r = msubs(r, {I1_zz:5, I2_zz:4, m1:5, m2:2, l1:1, l2:1, g:9.81, r1:0.5, r2:0.5})\n",
    "rhs = Matrix([0, 0, r[0], r[1]])\n"
   ]
  },
  {
   "cell_type": "code",
   "execution_count": 70,
   "metadata": {},
   "outputs": [
    {
     "data": {
      "image/png": "[encoded data removed]",
      "text/latex": [
       "$$\\left ( \\left \\{ \\alpha : y_{0, 0}, \\quad \\alpha_{d} : y_{2, 0}, \\quad \\beta : y_{1, 0}, \\quad \\beta_{d} : y_{3, 0}\\right \\}, \\quad \\left \\{ I_{1 zz} : cnst_{0, 0}, \\quad I_{2 zz} : cnst_{1, 0}, \\quad g : cnst_{6, 0}, \\quad l_{1} : cnst_{4, 0}, \\quad l_{2} : cnst_{5, 0}, \\quad m_{1} : cnst_{2, 0}, \\quad m_{2} : cnst_{3, 0}, \\quad r_{1} : cnst_{7, 0}, \\quad r_{2} : cnst_{8, 0}\\right \\}\\right )$$"
      ],
      "text/plain": [
       "({α: y₀₀, α_d: y₂₀, β: y₁₀, β_d: y₃₀}, {I_1_zz: cnst₀₀, I_2_zz: cnst₁₀, g: cns\n",
       "t₆₀, l₁: cnst₄₀, l₂: cnst₅₀, m₁: cnst₂₀, m₂: cnst₃₀, r₁: cnst₇₀, r₂: cnst₈₀})"
      ]
     },
     "execution_count": 70,
     "metadata": {},
     "output_type": "execute_result"
    }
   ],
   "source": [
    "y = MatrixSymbol('y', *states.shape)\n",
    "cnst = MatrixSymbol('cnst', *const.shape)\n",
    "state_array_map = dict(zip(states, y))\n",
    "constant_map = dict(zip(const, cnst))\n",
    "state_array_map, constant_map"
   ]
  },
  {
   "cell_type": "code",
   "execution_count": 71,
   "metadata": {},
   "outputs": [
    {
     "data": {
      "image/png": "[encoded data removed]",
      "text/latex": [
       "$$- \\frac{\\left(1.0 \\cos{\\left (y_{1, 0} \\right )} + 4.5\\right) \\left(\\tau_{2} - 1.0 \\sin{\\left (y_{1, 0} \\right )} y_{2, 0}^{2} - 9.81 \\cos{\\left (y_{0, 0} + y_{1, 0} \\right )}\\right)}{- \\left(1.0 \\cos{\\left (y_{1, 0} \\right )} + 4.5\\right)^{2} + 9.0 \\cos{\\left (y_{1, 0} \\right )} + 57.375} + \\frac{\\left(\\tau_{1} + 1.0 \\left(2 y_{2, 0} + y_{3, 0}\\right) \\sin{\\left (y_{1, 0} \\right )} y_{3, 0} - 9.81 \\cos{\\left (y_{0, 0} + y_{1, 0} \\right )} - 44.145 \\cos{\\left (y_{0, 0} \\right )}\\right) \\left(- \\left(- 1.0 \\cos{\\left (y_{1, 0} \\right )} - 4.5\\right) \\left(1.0 \\cos{\\left (y_{1, 0} \\right )} + 4.5\\right) - \\left(1.0 \\cos{\\left (y_{1, 0} \\right )} + 4.5\\right)^{2} + 9.0 \\cos{\\left (y_{1, 0} \\right )} + 57.375\\right)}{\\left(2.0 \\cos{\\left (y_{1, 0} \\right )} + 12.75\\right) \\left(- \\left(1.0 \\cos{\\left (y_{1, 0} \\right )} + 4.5\\right)^{2} + 9.0 \\cos{\\left (y_{1, 0} \\right )} + 57.375\\right)}$$"
      ],
      "text/plain": [
       "                       ⎛                     2                      ⎞         \n",
       "  (1.0⋅cos(y₁₀) + 4.5)⋅⎝τ₂ - 1.0⋅sin(y₁₀)⋅y₂₀  - 9.81⋅cos(y₀₀ + y₁₀)⎠   (τ₁ + \n",
       "- ─────────────────────────────────────────────────────────────────── + ──────\n",
       "                                  2                                           \n",
       "            - (1.0⋅cos(y₁₀) + 4.5)  + 9.0⋅cos(y₁₀) + 57.375                   \n",
       "\n",
       "                                                                        ⎛     \n",
       "1.0⋅(2⋅y₂₀ + y₃₀)⋅sin(y₁₀)⋅y₃₀ - 9.81⋅cos(y₀₀ + y₁₀) - 44.145⋅cos(y₀₀))⋅⎝-(-1.\n",
       "──────────────────────────────────────────────────────────────────────────────\n",
       "                                                                   ⎛          \n",
       "                                            (2.0⋅cos(y₁₀) + 12.75)⋅⎝- (1.0⋅cos\n",
       "\n",
       "                                                             2                \n",
       "0⋅cos(y₁₀) - 4.5)⋅(1.0⋅cos(y₁₀) + 4.5) - (1.0⋅cos(y₁₀) + 4.5)  + 9.0⋅cos(y₁₀) \n",
       "──────────────────────────────────────────────────────────────────────────────\n",
       "            2                        ⎞                                        \n",
       "(y₁₀) + 4.5)  + 9.0⋅cos(y₁₀) + 57.375⎠                                        \n",
       "\n",
       "        ⎞\n",
       "+ 57.375⎠\n",
       "─────────\n",
       "         \n",
       "         "
      ]
     },
     "execution_count": 71,
     "metadata": {},
     "output_type": "execute_result"
    }
   ],
   "source": [
    "rhs_ind = rhs.xreplace(state_array_map)\n",
    "rhs_of_odes_ind = rhs_ind.xreplace(constant_map)\n",
    "\n",
    "rhs_of_odes_ind[2]"
   ]
  },
  {
   "cell_type": "code",
   "execution_count": 72,
   "metadata": {},
   "outputs": [
    {
     "name": "stdout",
     "output_type": "stream",
     "text": [
      "/******************************************************************************\n",
      " *                       Code generated with sympy 1.3                        *\n",
      " *                                                                            *\n",
      " *              See http://www.sympy.org/ for more information.               *\n",
      " *                                                                            *\n",
      " *                       This file is part of 'project'                       *\n",
      " ******************************************************************************/\n",
      "#include \"c_odes.h\"\n",
      "#include <math.h>\n",
      "\n",
      "void c_odes(double tau_1, double tau_2, double *y, double *out_2479432236621758881) {\n",
      "\n",
      "   out_2479432236621758881[0] = 0;\n",
      "   out_2479432236621758881[1] = 0;\n",
      "   out_2479432236621758881[2] = -(1.0*cos(y[1]) + 4.5)*(tau_2 - 1.0*sin(y[1])*pow(y[2], 2) - 9.8100000000000005*cos(y[0] + y[1]))/(-pow(1.0*cos(y[1]) + 4.5, 2) + 9.0*cos(y[1]) + 57.375) + (tau_1 + 1.0*(2*y[2] + y[3])*sin(y[1])*y[3] - 9.8100000000000005*cos(y[0] + y[1]) - 44.145000000000003*cos(y[0]))*(-(-1.0*cos(y[1]) - 4.5)*(1.0*cos(y[1]) + 4.5) - pow(1.0*cos(y[1]) + 4.5, 2) + 9.0*cos(y[1]) + 57.375)/((2.0*cos(y[1]) + 12.75)*(-pow(1.0*cos(y[1]) + 4.5, 2) + 9.0*cos(y[1]) + 57.375));\n",
      "   out_2479432236621758881[3] = (-1.0*cos(y[1]) - 4.5)*(tau_1 + 1.0*(2*y[2] + y[3])*sin(y[1])*y[3] - 9.8100000000000005*cos(y[0] + y[1]) - 44.145000000000003*cos(y[0]))/(-pow(1.0*cos(y[1]) + 4.5, 2) + 9.0*cos(y[1]) + 57.375) + (2.0*cos(y[1]) + 12.75)*(tau_2 - 1.0*sin(y[1])*pow(y[2], 2) - 9.8100000000000005*cos(y[0] + y[1]))/(-pow(1.0*cos(y[1]) + 4.5, 2) + 9.0*cos(y[1]) + 57.375);\n",
      "\n",
      "}\n",
      "\n"
     ]
    }
   ],
   "source": [
    "from sympy.utilities.codegen import codegen\n",
    "[(cf, cs), (hf, hs)] = codegen(('c_odes', rhs_of_odes_ind), language='c')\n",
    "print(cs)"
   ]
  },
  {
   "cell_type": "code",
   "execution_count": 73,
   "metadata": {},
   "outputs": [],
   "source": [
    "dY = MatrixSymbol('dY', *y.shape)"
   ]
  },
  {
   "cell_type": "code",
   "execution_count": 74,
   "metadata": {},
   "outputs": [
    {
     "data": {
      "image/png": "[encoded data removed]",
      "text/latex": [
       "$$dY = \\left[\\begin{matrix}0\\\\0\\\\- \\frac{\\left(1.0 \\cos{\\left (y_{1, 0} \\right )} + 4.5\\right) \\left(\\tau_{2} - 1.0 \\sin{\\left (y_{1, 0} \\right )} y_{2, 0}^{2} - 9.81 \\cos{\\left (y_{0, 0} + y_{1, 0} \\right )}\\right)}{- \\left(1.0 \\cos{\\left (y_{1, 0} \\right )} + 4.5\\right)^{2} + 9.0 \\cos{\\left (y_{1, 0} \\right )} + 57.375} + \\frac{\\left(\\tau_{1} + 1.0 \\left(2 y_{2, 0} + y_{3, 0}\\right) \\sin{\\left (y_{1, 0} \\right )} y_{3, 0} - 9.81 \\cos{\\left (y_{0, 0} + y_{1, 0} \\right )} - 44.145 \\cos{\\left (y_{0, 0} \\right )}\\right) \\left(- \\left(- 1.0 \\cos{\\left (y_{1, 0} \\right )} - 4.5\\right) \\left(1.0 \\cos{\\left (y_{1, 0} \\right )} + 4.5\\right) - \\left(1.0 \\cos{\\left (y_{1, 0} \\right )} + 4.5\\right)^{2} + 9.0 \\cos{\\left (y_{1, 0} \\right )} + 57.375\\right)}{\\left(2.0 \\cos{\\left (y_{1, 0} \\right )} + 12.75\\right) \\left(- \\left(1.0 \\cos{\\left (y_{1, 0} \\right )} + 4.5\\right)^{2} + 9.0 \\cos{\\left (y_{1, 0} \\right )} + 57.375\\right)}\\\\\\frac{\\left(- 1.0 \\cos{\\left (y_{1, 0} \\right )} - 4.5\\right) \\left(\\tau_{1} + 1.0 \\left(2 y_{2, 0} + y_{3, 0}\\right) \\sin{\\left (y_{1, 0} \\right )} y_{3, 0} - 9.81 \\cos{\\left (y_{0, 0} + y_{1, 0} \\right )} - 44.145 \\cos{\\left (y_{0, 0} \\right )}\\right)}{- \\left(1.0 \\cos{\\left (y_{1, 0} \\right )} + 4.5\\right)^{2} + 9.0 \\cos{\\left (y_{1, 0} \\right )} + 57.375} + \\frac{\\left(2.0 \\cos{\\left (y_{1, 0} \\right )} + 12.75\\right) \\left(\\tau_{2} - 1.0 \\sin{\\left (y_{1, 0} \\right )} y_{2, 0}^{2} - 9.81 \\cos{\\left (y_{0, 0} + y_{1, 0} \\right )}\\right)}{- \\left(1.0 \\cos{\\left (y_{1, 0} \\right )} + 4.5\\right)^{2} + 9.0 \\cos{\\left (y_{1, 0} \\right )} + 57.375}\\end{matrix}\\right]$$"
      ],
      "text/plain": [
       "     ⎡                                                                        \n",
       "     ⎢                                                                        \n",
       "     ⎢                                                                        \n",
       "     ⎢                                                                        \n",
       "     ⎢                       ⎛                     2                      ⎞   \n",
       "     ⎢  (1.0⋅cos(y₁₀) + 4.5)⋅⎝τ₂ - 1.0⋅sin(y₁₀)⋅y₂₀  - 9.81⋅cos(y₀₀ + y₁₀)⎠   \n",
       "     ⎢- ─────────────────────────────────────────────────────────────────── + \n",
       "dY = ⎢                                  2                                     \n",
       "     ⎢            - (1.0⋅cos(y₁₀) + 4.5)  + 9.0⋅cos(y₁₀) + 57.375             \n",
       "     ⎢                                                                        \n",
       "     ⎢                                                                        \n",
       "     ⎢                                    (-1.0⋅cos(y₁₀) - 4.5)⋅(τ₁ + 1.0⋅(2⋅y\n",
       "     ⎢                                    ────────────────────────────────────\n",
       "     ⎢                                                                        \n",
       "     ⎣                                                              - (1.0⋅cos\n",
       "\n",
       "                                                 0                            \n",
       "                                                                              \n",
       "                                                 0                            \n",
       "                                                                              \n",
       "                                                                              \n",
       "(τ₁ + 1.0⋅(2⋅y₂₀ + y₃₀)⋅sin(y₁₀)⋅y₃₀ - 9.81⋅cos(y₀₀ + y₁₀) - 44.145⋅cos(y₀₀))⋅\n",
       "──────────────────────────────────────────────────────────────────────────────\n",
       "                                                                         ⎛    \n",
       "                                                  (2.0⋅cos(y₁₀) + 12.75)⋅⎝- (1\n",
       "                                                                              \n",
       "                                                                              \n",
       "₂₀ + y₃₀)⋅sin(y₁₀)⋅y₃₀ - 9.81⋅cos(y₀₀ + y₁₀) - 44.145⋅cos(y₀₀))   (2.0⋅cos(y₁₀\n",
       "─────────────────────────────────────────────────────────────── + ────────────\n",
       "            2                                                                 \n",
       "(y₁₀) + 4.5)  + 9.0⋅cos(y₁₀) + 57.375                                        -\n",
       "\n",
       "                                                                              \n",
       "                                                                              \n",
       "                                                                              \n",
       "                                                                              \n",
       "⎛                                                                  2          \n",
       "⎝-(-1.0⋅cos(y₁₀) - 4.5)⋅(1.0⋅cos(y₁₀) + 4.5) - (1.0⋅cos(y₁₀) + 4.5)  + 9.0⋅cos\n",
       "──────────────────────────────────────────────────────────────────────────────\n",
       "                  2                        ⎞                                  \n",
       ".0⋅cos(y₁₀) + 4.5)  + 9.0⋅cos(y₁₀) + 57.375⎠                                  \n",
       "                                                                              \n",
       "           ⎛                     2                      ⎞                     \n",
       ") + 12.75)⋅⎝τ₂ - 1.0⋅sin(y₁₀)⋅y₂₀  - 9.81⋅cos(y₀₀ + y₁₀)⎠                     \n",
       "─────────────────────────────────────────────────────────                     \n",
       "                     2                                                        \n",
       " (1.0⋅cos(y₁₀) + 4.5)  + 9.0⋅cos(y₁₀) + 57.375                                \n",
       "\n",
       "               ⎤\n",
       "               ⎥\n",
       "               ⎥\n",
       "               ⎥\n",
       "              ⎞⎥\n",
       "(y₁₀) + 57.375⎠⎥\n",
       "───────────────⎥\n",
       "               ⎥\n",
       "               ⎥\n",
       "               ⎥\n",
       "               ⎥\n",
       "               ⎥\n",
       "               ⎥\n",
       "               ⎥\n",
       "               ⎦"
      ]
     },
     "execution_count": 74,
     "metadata": {},
     "output_type": "execute_result"
    }
   ],
   "source": [
    "ode_eq = Eq(dY, rhs_of_odes_ind)\n",
    "ode_eq"
   ]
  },
  {
   "cell_type": "code",
   "execution_count": 75,
   "metadata": {},
   "outputs": [],
   "source": [
    "#codegen(('c_odes_2R_robot', ode_eq), language='c', to_files=True)"
   ]
  },
  {
   "cell_type": "code",
   "execution_count": 76,
   "metadata": {},
   "outputs": [],
   "source": [
    "auto_odes = autowrap(ode_eq, backend='cython', tempdir='./autowraptmp')"
   ]
  },
  {
   "cell_type": "code",
   "execution_count": 64,
   "metadata": {},
   "outputs": [
    {
     "data": {
      "text/plain": [
       "builtin_function_or_method"
      ]
     },
     "execution_count": 64,
     "metadata": {},
     "output_type": "execute_result"
    }
   ],
   "source": [
    "type(auto_odes)"
   ]
  },
  {
   "cell_type": "code",
   "execution_count": 77,
   "metadata": {},
   "outputs": [
    {
     "data": {
      "text/plain": [
       "array([[ 0.       ],\n",
       "       [ 0.       ],\n",
       "       [-5.1826464],\n",
       "       [ 4.4799929]])"
      ]
     },
     "execution_count": 77,
     "metadata": {},
     "output_type": "execute_result"
    }
   ],
   "source": [
    "random_vals = np.random.randn(9, 1) # need a 2-dimensional vector\n",
    "t1, t2 = 1, 2\n",
    "y = np.random.randn(4, 1)\n",
    "auto_odes(t1, t2, y)"
   ]
  },
  {
   "cell_type": "code",
   "execution_count": 78,
   "metadata": {},
   "outputs": [],
   "source": [
    "def auto_odes_wrapper(y, t, t1, t2):\n",
    "    dY = auto_odes(t1, t2, y[:, np.newaxis])\n",
    "    return dY.squeeze()"
   ]
  },
  {
   "cell_type": "code",
   "execution_count": 87,
   "metadata": {},
   "outputs": [],
   "source": [
    "#random_vals = np.random.randn(4)\n",
    "#auto_odes_wrapper(random_vals, y)"
   ]
  },
  {
   "cell_type": "code",
   "execution_count": 86,
   "metadata": {},
   "outputs": [
    {
     "data": {
      "text/plain": [
       "[<matplotlib.lines.Line2D at 0x7fdfcfea0b38>,\n",
       " <matplotlib.lines.Line2D at 0x7fdfcfea0cf8>,\n",
       " <matplotlib.lines.Line2D at 0x7fdfcfea0e48>,\n",
       " <matplotlib.lines.Line2D at 0x7fdfcfea0f98>]"
      ]
     },
     "execution_count": 86,
     "metadata": {},
     "output_type": "execute_result"
    },
    {
     "data": {
      "image/png": "[encoded data removed]",
      "text/plain": [
       "<Figure size 432x288 with 1 Axes>"
      ]
     },
     "metadata": {
      "needs_background": "light"
     },
     "output_type": "display_data"
    }
   ],
   "source": [
    "from scipy.integrate import odeint\n",
    "import matplotlib.pyplot as plt\n",
    "#from scipy2017codegen.chem import watrad_init, watrad_plot\n",
    "t_vals = np.linspace(0, 2, 100)\n",
    "y_vals = odeint(auto_odes_wrapper, np.random.randn(4), t_vals, args=(1, 2), )# Dfun=auto_jac_wrapper)\n",
    "plt.plot(t_vals, y_vals)"
   ]
  },
  {
   "cell_type": "code",
   "execution_count": null,
   "metadata": {},
   "outputs": [],
   "source": []
  }
 ],
 "metadata": {
  "kernelspec": {
   "display_name": "Python 3",
   "language": "python",
   "name": "python3"
  },
  "language_info": {
   "codemirror_mode": {
    "name": "ipython",
    "version": 3
   },
   "file_extension": ".py",
   "mimetype": "text/x-python",
   "name": "python",
   "nbconvert_exporter": "python",
   "pygments_lexer": "ipython3",
   "version": "3.6.9"
  }
 },
 "nbformat": 4,
 "nbformat_minor": 2
}
