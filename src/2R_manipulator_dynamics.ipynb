{
 "cells": [
  {
   "cell_type": "code",
   "execution_count": 1,
   "metadata": {},
   "outputs": [],
   "source": [
    "from IPython.display import Image \n",
    "from IPython.display import IFrame\n",
    "# IFrame(\"https://github.com/shyamashi/model_predictive_control/blob/master/src/2R%20manipulator%20theory/2R_manipulator_EOM.pdf\", width=900, height=800)\n",
    "# Image(filename='/home/ar0058/Repo/model_predictive_control/src/2R manipulator theory/2R_manip_2.png') "
   ]
  },
  {
   "cell_type": "markdown",
   "metadata": {},
   "source": [
    "The dynamic equations can be written as\n"
   ]
  },
  {
   "cell_type": "code",
   "execution_count": 2,
   "metadata": {},
   "outputs": [
    {
     "data": {
      "text/latex": [
       "\\begin{align*}\n",
       "M(q)\\ddot{q} + C(q, \\dot{q}) + G(q) = \\tau\n",
       "\\end{align*}"
      ],
      "text/plain": [
       "<IPython.core.display.Latex object>"
      ]
     },
     "execution_count": 2,
     "metadata": {},
     "output_type": "execute_result"
    }
   ],
   "source": [
    "from IPython.display import Latex\n",
    "Latex(r\"\"\"\\begin{align*}\n",
    "M(q)\\ddot{q} + C(q, \\dot{q}) + G(q) = \\tau\n",
    "\\end{align*}\"\"\")"
   ]
  },
  {
   "cell_type": "code",
   "execution_count": 3,
   "metadata": {},
   "outputs": [
    {
     "data": {
      "text/latex": [
       "\\begin{multline}\n",
       "(I_1 + I_2 + m_2l_1^2 + m_1 r_{1_{cm}}^2 + m_2 r_{2_{cm}}^2 + 2 m_2 l_1 r_{2_{cm}} \\cos\\theta_2)\\ddot{\\theta}_1 + (I_2 + m_2 r_{2_{cm}}^2 + m_2 l_1 r_{2_{cm}} \\cos\\theta_2) \\ddot{\\theta}_2 - \\\\m_2 l_1 r_{2_{cm}} \\sin\\theta_2(2\\dot{\\theta}_1 + \\dot{\\theta}_2) \\dot{\\theta}_2 + m_2 g (l_1 \\cos\\theta_1 + r_{2_{cm}} \\cos(\\theta_1 + \\theta_2)) +m_1 g r_{1_{cm}} \\cos\\theta_1 = \\tau_1\n",
       "\\\\\n",
       "(I_2 + m_2 r_{2_{cm}}^2 + m_2l_1r_{2_{cm}} \\cos\\theta_2) \\ddot{\\theta}_1 + (I_2 + m_2 r_{2_{cm}}^2) \\ddot{\\theta}_2 + m_2 l_1 r_{2_{cm}} \\sin\\theta_2 \\dot{\\theta}_1^2 + m_2 r_{2_{cm}} g \\cos(\\theta_1 + \\theta_2) = \\tau_2\n",
       "\\end{multline}"
      ],
      "text/plain": [
       "<IPython.core.display.Latex object>"
      ]
     },
     "execution_count": 3,
     "metadata": {},
     "output_type": "execute_result"
    }
   ],
   "source": [
    "Latex(r\"\"\"\\begin{multline}\n",
    "(I_1 + I_2 + m_2l_1^2 + m_1 r_{1_{cm}}^2 + m_2 r_{2_{cm}}^2 + 2 m_2 l_1 r_{2_{cm}} \\cos\\theta_2)\\ddot{\\theta}_1 + (I_2 + m_2 r_{2_{cm}}^2 + m_2 l_1 r_{2_{cm}} \\cos\\theta_2) \\ddot{\\theta}_2 - \\\\m_2 l_1 r_{2_{cm}} \\sin\\theta_2(2\\dot{\\theta}_1 + \\dot{\\theta}_2) \\dot{\\theta}_2 + m_2 g (l_1 \\cos\\theta_1 + r_{2_{cm}} \\cos(\\theta_1 + \\theta_2)) +m_1 g r_{1_{cm}} \\cos\\theta_1 = \\tau_1\n",
    "\\\\\n",
    "(I_2 + m_2 r_{2_{cm}}^2 + m_2l_1r_{2_{cm}} \\cos\\theta_2) \\ddot{\\theta}_1 + (I_2 + m_2 r_{2_{cm}}^2) \\ddot{\\theta}_2 + m_2 l_1 r_{2_{cm}} \\sin\\theta_2 \\dot{\\theta}_1^2 + m_2 r_{2_{cm}} g \\cos(\\theta_1 + \\theta_2) = \\tau_2\n",
    "\\end{multline}\"\"\")"
   ]
  },
  {
   "cell_type": "code",
   "execution_count": 4,
   "metadata": {},
   "outputs": [],
   "source": [
    "import numpy as np\n",
    "import matplotlib.pyplot as plt\n",
    "from mpl_toolkits import mplot3d\n",
    "from sympy import *\n",
    "from sympy.physics.mechanics import *\n",
    "from sympy.tensor.array import Array"
   ]
  },
  {
   "cell_type": "code",
   "execution_count": 5,
   "metadata": {},
   "outputs": [],
   "source": [
    "q1, q2 = dynamicsymbols('q1 q2')  # joint variables (same as theta_1, theta_2)\n",
    "r1, r2 = symbols('r1 r2')  # COM vector (same as r1_cm, r2_cm)\n",
    "q1d, q2d = dynamicsymbols('q1 q2', 1)  # angular velocities\n",
    "tau_1, tau_2, I1_zz, I2_zz, m1, m2 = symbols('tau_1 tau_2 I1_zz, I2_zz, m1, m2')  # Torques, Inertia about com Z axis, masses\n",
    "l1, l2, g = symbols('l_1 l_2 g', positive=True)  # link lengths and gravity magnitude\n",
    "\n",
    "t = np.linspace(0, 1, 50)\n",
    "\n",
    "l =[l1, l2]\n",
    "m = [m1, m2]\n",
    "q = [q1, q2]\n",
    "qd = [q1d, q2d]\n",
    "\n",
    "grav = transpose(Matrix([[0, g, 0]]))\n",
    "\n",
    "# Inertia tensor wrt centre of mass of each link\n",
    "I1 = zeros(3, 3)\n",
    "I1[2, 2] = I1_zz\n",
    "\n",
    "I2 = zeros(3, 3)\n",
    "I2[2, 2] = I2_zz\n",
    "\n",
    "I = [I1, I2]\n",
    "\n",
    "# COM vectors \n",
    "r11 = zeros(3, 1)\n",
    "r11[0] = r1\n",
    "\n",
    "r22 = zeros(3, 1)\n",
    "r22[0] = r2\n",
    "\n",
    "r = zeros(3, 2)\n",
    "r[:, 0] = r11\n",
    "r[:, 1] = r22\n",
    "\n",
    "# DH parameters of the 2R manipulator\n",
    "a = Array([0.0, l1, l2])\n",
    "d = Array([0.0, 0.0, 0.0])\n",
    "alpha = Array([0.0, 0.0, 0.0])\n",
    "\n",
    "\n"
   ]
  },
  {
   "cell_type": "code",
   "execution_count": 6,
   "metadata": {},
   "outputs": [],
   "source": [
    "# Symbolic forward kinematics from DH parameters\n",
    "def fwd_kin_symbolic(q):\n",
    "    q_i = Symbol(\"q_i\")\n",
    "    alpha_i = Symbol(\"alpha_i\")\n",
    "    a_i = Symbol(\"a_i\")\n",
    "    d_i = Symbol(\"d_i\")\n",
    "    T = Matrix([[cos(q_i), -sin(q_i), 0, a_i],\n",
    "                [sin(q_i) * cos(alpha_i), cos(q_i) * cos(alpha_i), -sin(alpha_i), -sin(alpha_i) * d_i],\n",
    "                [sin(q_i) * sin(alpha_i), cos(q_i) * sin(alpha_i), cos(alpha_i), cos(alpha_i) * d_i],\n",
    "                [0, 0, 0, 1]])\n",
    "    T_joint, T_i_i1 = [], []  #  T_joint and T_i_i1 are respectively the 4x4 transformation matrix relating i_th frame  wrt 0 and i+1 frame wrt i\n",
    "    t = eye(4)\n",
    "    for i in range(len(q)):\n",
    "        temp = T.subs(alpha_i, alpha[i]).subs(a_i, a[i]).subs(d_i, d[i]).subs(q_i, q[i])\n",
    "        t = t*temp\n",
    "        T_joint.append(t)\n",
    "        T_i_i1.append(temp)\n",
    "    return T_joint, T_i_i1\n"
   ]
  },
  {
   "cell_type": "markdown",
   "metadata": {},
   "source": [
    "The velocities of the joints are based on the following formulas"
   ]
  },
  {
   "cell_type": "code",
   "execution_count": 7,
   "metadata": {},
   "outputs": [
    {
     "data": {
      "text/latex": [
       "\\begin{align*}\n",
       "^i\\omega_i &=~ ^i _{i-1}[R]~^{i-1}\\omega_{i-1} +~ \\dot{\\theta}_i (0~ 0~ 1)^T \\\\\n",
       "^iV_i &=~ ^i _{i-1}[R]~^{i-1}V_{i-1} + ~^{i - 1}\\omega_{i - 1} \\times ~^{i - 1}O_i\n",
       "\\end{align*}"
      ],
      "text/plain": [
       "<IPython.core.display.Latex object>"
      ]
     },
     "execution_count": 7,
     "metadata": {},
     "output_type": "execute_result"
    }
   ],
   "source": [
    "Latex(r\"\"\"\\begin{align*}\n",
    "^i\\omega_i &=~ ^i _{i-1}[R]~^{i-1}\\omega_{i-1} +~ \\dot{\\theta}_i (0~ 0~ 1)^T \\\\\n",
    "^iV_i &=~ ^i _{i-1}[R]~^{i-1}V_{i-1} + ~^{i - 1}\\omega_{i - 1} \\times ~^{i - 1}O_i\n",
    "\\end{align*}\"\"\")"
   ]
  },
  {
   "cell_type": "markdown",
   "metadata": {},
   "source": [
    "The velocity of the centre of mass can be found as"
   ]
  },
  {
   "cell_type": "code",
   "execution_count": 8,
   "metadata": {},
   "outputs": [
    {
     "data": {
      "text/latex": [
       "\\begin{align*}\n",
       "^iV_{Ci} &=~ ^{i}V_{i} + ~^i \\omega_i \\times ~^iP_{Ci}\n",
       "\\end{align*}"
      ],
      "text/plain": [
       "<IPython.core.display.Latex object>"
      ]
     },
     "execution_count": 8,
     "metadata": {},
     "output_type": "execute_result"
    }
   ],
   "source": [
    "Latex(r\"\"\"\\begin{align*}\n",
    "^iV_{Ci} &=~ ^{i}V_{i} + ~^i \\omega_i \\times ~^iP_{Ci}\n",
    "\\end{align*}\"\"\")"
   ]
  },
  {
   "cell_type": "code",
   "execution_count": 9,
   "metadata": {},
   "outputs": [],
   "source": [
    "# For detailed explanation of the formulas, please refer to https://nptel.ac.in/courses/112108093/6\n",
    "def velocities(q):\n",
    "    omega = Matrix.zeros(3, len(q)+1)\n",
    "    joint_velocity = Matrix.zeros(3, len(q)+1)\n",
    "    cm_vel = Matrix.zeros(3, len(q))\n",
    "    _, t_i_i1 = fwd_kin_symbolic(q)  # T_i_i1 is the 4x4 transformation matrix of i+1 frame wrt to i\n",
    "    for i in range(len(q)):\n",
    "        R = t_i_i1[i][0:3, 0:3].transpose()\n",
    "        omega[:, i+1] = R * omega[:, i] + Matrix([[0], [0], [qd[i]]])\n",
    "        joint_velocity[:, i+1] = R * (joint_velocity[:, i] + omega[:, i].cross(t_i_i1[i][0:3, 3]))\n",
    "    omega, joint_velocity = omega[:, 1:], joint_velocity[:, 1:]\n",
    "    for i in range(len(q)):\n",
    "        # cm_vel[:, i] = joint_velocity[:, i] + omega[:, i].cross(t_i_i1[i][0:3, 3]/2)\n",
    "        cm_vel[:, i] = joint_velocity[:, i] + omega[:, i].cross(r[:, i])\n",
    "    return omega, cm_vel, joint_velocity"
   ]
  },
  {
   "cell_type": "code",
   "execution_count": 10,
   "metadata": {},
   "outputs": [],
   "source": [
    "def kinetic_energy(q):\n",
    "    w, cm_vel, joint_velocity = velocities(q)\n",
    "    K = 0\n",
    "    for i in range(len(q)):\n",
    "        K += 0.5*m[i]*cm_vel[:, i].dot(cm_vel[:, i]) + 0.5*w[:, i].dot(I[i]*w[:, i])\n",
    "    return K\n",
    "\n",
    "def potential_energy(q):\n",
    "    T_joint, _ = fwd_kin_symbolic(q)  # T_joint is the 4x4 transformation matrix relating i_th frame  wrt to 0\n",
    "    P = 0\n",
    "    for i in range(len(q)):\n",
    "        r_0_cm = T_joint[i][0:3, 0:3]*r[:, i] + T_joint[i][0:3, 3]  # com vector wrt 0\n",
    "        P += m[i]*grav.dot(r_0_cm)\n",
    "    return P"
   ]
  },
  {
   "cell_type": "code",
   "execution_count": 11,
   "metadata": {},
   "outputs": [],
   "source": [
    "def get_dyn_para(q, qd):\n",
    "    K = kinetic_energy(q)\n",
    "    P = potential_energy(q)\n",
    "    L = K - P  # Lagrangian\n",
    "    M = transpose(Matrix([[K]]).jacobian(qd)).jacobian(qd).applyfunc(trigsimp)  # Mass matrix\n",
    "    C = transpose(Matrix([[K]]).jacobian(qd)).jacobian(q) * Matrix(qd) - transpose(Matrix([[K]]).jacobian(q))  # Coriolis vector\n",
    "    C = C.applyfunc(trigsimp)\n",
    "    G = transpose(Matrix([[P]]).jacobian(q)).applyfunc(trigsimp)  # Gravity vector\n",
    "    # LM = LagrangesMethod(L, q)\n",
    "    # LM.form_lagranges_equations()\n",
    "    # print LM.mass_matrix.applyfunc(trigsimp)\n",
    "    # Matrix([P]).applyfunc(trigsimp)\n",
    "    return M, C, G"
   ]
  },
  {
   "cell_type": "code",
   "execution_count": 12,
   "metadata": {},
   "outputs": [],
   "source": [
    "# reference trajectory\n",
    "def ref_trajectory(self, i):  # y = 3*sin(2*pi*omega*t)\n",
    "    omega = 0.5\n",
    "    # y_ref = 3 * np.sin(2*np.pi*omega*t[i])\n",
    "    y_ref = np.array([[0], [2], [0]])\n",
    "    return y_ref\n",
    "    # return sp.Matrix(([[self.t[i]], [y], [0]]))"
   ]
  },
  {
   "cell_type": "code",
   "execution_count": 13,
   "metadata": {},
   "outputs": [],
   "source": [
    "T_eff = eye(4)\n",
    "T_eff[0, 3] = l2\n",
    "\n",
    "def fwd_kin_numeric(lp, qp):  # provide the values of link lengths and joint angles to get the end-eff pose\n",
    "    T_joint, _ = fwd_kin_symbolic(q)\n",
    "    T_0_eff = T_joint[-1] * T_eff\n",
    "    for i in range(len(q)):\n",
    "        T_0_eff = T_0_eff.subs(q[i], qp[i]).subs(l[i], lp[i])\n",
    "    Rot_0_eff = T_0_eff[0:3, 0:3]\n",
    "    pos_0_eff = T_0_eff[0:3, 3]\n",
    "    return pos_0_eff, Rot_0_eff\n",
    "\n",
    "def dyn_para_numeric(lp, qp, qdp):\n",
    "    M, C, G = get_dyn_para(q, qd)\n",
    "    for i in range(len(qp)):\n",
    "        M = M.subs(q[i], qp[i]).subs(l[i], lp[i])\n",
    "        C = C.subs(q[i], qp[i]).subs(l[i], lp[i]).subs(qd[i], qdp[i])\n",
    "        G = G.subs(q[i], qp[i]).subs(l[i], lp[i])\n",
    "    return M, C, G\n",
    "        \n"
   ]
  },
  {
   "cell_type": "code",
   "execution_count": 14,
   "metadata": {},
   "outputs": [
    {
     "data": {
      "text/latex": [
       "$\\displaystyle \\left[\\begin{matrix}- 1.0 l_{1} m_{2} r_{2} \\left(2 \\frac{d}{d t} \\operatorname{q_{1}}{\\left(t \\right)} + \\frac{d}{d t} \\operatorname{q_{2}}{\\left(t \\right)}\\right) \\sin{\\left(\\operatorname{q_{2}}{\\left(t \\right)} \\right)} \\frac{d}{d t} \\operatorname{q_{2}}{\\left(t \\right)}\\\\1.0 l_{1} m_{2} r_{2} \\sin{\\left(\\operatorname{q_{2}}{\\left(t \\right)} \\right)} \\left(\\frac{d}{d t} \\operatorname{q_{1}}{\\left(t \\right)}\\right)^{2}\\end{matrix}\\right]$"
      ],
      "text/plain": [
       "Matrix([\n",
       "[-1.0*l_1*m2*r2*(2*Derivative(q1(t), t) + Derivative(q2(t), t))*sin(q2(t))*Derivative(q2(t), t)],\n",
       "[                                              1.0*l_1*m2*r2*sin(q2(t))*Derivative(q1(t), t)**2]])"
      ]
     },
     "execution_count": 14,
     "metadata": {},
     "output_type": "execute_result"
    }
   ],
   "source": [
    "# output\n",
    "M, C, G = get_dyn_para(q, qd)\n",
    "# print('MassMatrix = \\n', M, '\\n\\n Coriolis_&_CentripetalVector = \\n', C, '\\n\\n Gravityvector = \\n', G)\n",
    "C"
   ]
  },
  {
   "cell_type": "code",
   "execution_count": null,
   "metadata": {},
   "outputs": [],
   "source": []
  }
 ],
 "metadata": {
  "kernelspec": {
   "display_name": "Python 2",
   "language": "python",
   "name": "python2"
  },
  "language_info": {
   "codemirror_mode": {
    "name": "ipython",
    "version": 3
   },
   "file_extension": ".py",
   "mimetype": "text/x-python",
   "name": "python",
   "nbconvert_exporter": "python",
   "pygments_lexer": "ipython3",
   "version": "3.7.3"
  }
 },
 "nbformat": 4,
 "nbformat_minor": 2
}
